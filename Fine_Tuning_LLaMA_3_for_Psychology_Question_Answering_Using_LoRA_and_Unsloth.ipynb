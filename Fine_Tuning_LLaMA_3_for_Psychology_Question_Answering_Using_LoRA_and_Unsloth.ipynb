{
  "nbformat": 4,
  "nbformat_minor": 0,
  "metadata": {
    "colab": {
      "provenance": [],
      "gpuType": "T4"
    },
    "kernelspec": {
      "name": "python3",
      "display_name": "Python 3"
    },
    "language_info": {
      "name": "python"
    },
    "accelerator": "GPU",
    "widgets": {
      "application/vnd.jupyter.widget-state+json": {
        "957b2d1248c24c6bbcef00f3230bb5bd": {
          "model_module": "@jupyter-widgets/controls",
          "model_name": "HBoxModel",
          "model_module_version": "1.5.0",
          "state": {
            "_dom_classes": [],
            "_model_module": "@jupyter-widgets/controls",
            "_model_module_version": "1.5.0",
            "_model_name": "HBoxModel",
            "_view_count": null,
            "_view_module": "@jupyter-widgets/controls",
            "_view_module_version": "1.5.0",
            "_view_name": "HBoxView",
            "box_style": "",
            "children": [
              "IPY_MODEL_5883945fa006438a992dde002eab7801",
              "IPY_MODEL_beeeaa2c8918448886a08890ad3c601d",
              "IPY_MODEL_1f7c7ea5fa324f5991ef431766e35b3b"
            ],
            "layout": "IPY_MODEL_1c9c1ad27c6049b29ac4901c0226ab59"
          }
        },
        "5883945fa006438a992dde002eab7801": {
          "model_module": "@jupyter-widgets/controls",
          "model_name": "HTMLModel",
          "model_module_version": "1.5.0",
          "state": {
            "_dom_classes": [],
            "_model_module": "@jupyter-widgets/controls",
            "_model_module_version": "1.5.0",
            "_model_name": "HTMLModel",
            "_view_count": null,
            "_view_module": "@jupyter-widgets/controls",
            "_view_module_version": "1.5.0",
            "_view_name": "HTMLView",
            "description": "",
            "description_tooltip": null,
            "layout": "IPY_MODEL_9799f460d15244028669349b540ad02e",
            "placeholder": "​",
            "style": "IPY_MODEL_c62a41c8e68d4c8b9b3592b29cd56197",
            "value": "model.safetensors: 100%"
          }
        },
        "beeeaa2c8918448886a08890ad3c601d": {
          "model_module": "@jupyter-widgets/controls",
          "model_name": "FloatProgressModel",
          "model_module_version": "1.5.0",
          "state": {
            "_dom_classes": [],
            "_model_module": "@jupyter-widgets/controls",
            "_model_module_version": "1.5.0",
            "_model_name": "FloatProgressModel",
            "_view_count": null,
            "_view_module": "@jupyter-widgets/controls",
            "_view_module_version": "1.5.0",
            "_view_name": "ProgressView",
            "bar_style": "danger",
            "description": "",
            "description_tooltip": null,
            "layout": "IPY_MODEL_5cbe182f4a104aa4981bd6aeab4fa72b",
            "max": 5702746405,
            "min": 0,
            "orientation": "horizontal",
            "style": "IPY_MODEL_4aafe9dfea4e4ababa1078446f848757",
            "value": 5702745862
          }
        },
        "1f7c7ea5fa324f5991ef431766e35b3b": {
          "model_module": "@jupyter-widgets/controls",
          "model_name": "HTMLModel",
          "model_module_version": "1.5.0",
          "state": {
            "_dom_classes": [],
            "_model_module": "@jupyter-widgets/controls",
            "_model_module_version": "1.5.0",
            "_model_name": "HTMLModel",
            "_view_count": null,
            "_view_module": "@jupyter-widgets/controls",
            "_view_module_version": "1.5.0",
            "_view_name": "HTMLView",
            "description": "",
            "description_tooltip": null,
            "layout": "IPY_MODEL_52ab98bda44b41a39c51dc25c9d08097",
            "placeholder": "​",
            "style": "IPY_MODEL_eb1a69ed2b3e40e896f6793ea8b6d324",
            "value": " 5.70G/5.70G [00:37&lt;00:00, 55.4MB/s]"
          }
        },
        "1c9c1ad27c6049b29ac4901c0226ab59": {
          "model_module": "@jupyter-widgets/base",
          "model_name": "LayoutModel",
          "model_module_version": "1.2.0",
          "state": {
            "_model_module": "@jupyter-widgets/base",
            "_model_module_version": "1.2.0",
            "_model_name": "LayoutModel",
            "_view_count": null,
            "_view_module": "@jupyter-widgets/base",
            "_view_module_version": "1.2.0",
            "_view_name": "LayoutView",
            "align_content": null,
            "align_items": null,
            "align_self": null,
            "border": null,
            "bottom": null,
            "display": null,
            "flex": null,
            "flex_flow": null,
            "grid_area": null,
            "grid_auto_columns": null,
            "grid_auto_flow": null,
            "grid_auto_rows": null,
            "grid_column": null,
            "grid_gap": null,
            "grid_row": null,
            "grid_template_areas": null,
            "grid_template_columns": null,
            "grid_template_rows": null,
            "height": null,
            "justify_content": null,
            "justify_items": null,
            "left": null,
            "margin": null,
            "max_height": null,
            "max_width": null,
            "min_height": null,
            "min_width": null,
            "object_fit": null,
            "object_position": null,
            "order": null,
            "overflow": null,
            "overflow_x": null,
            "overflow_y": null,
            "padding": null,
            "right": null,
            "top": null,
            "visibility": null,
            "width": null
          }
        },
        "9799f460d15244028669349b540ad02e": {
          "model_module": "@jupyter-widgets/base",
          "model_name": "LayoutModel",
          "model_module_version": "1.2.0",
          "state": {
            "_model_module": "@jupyter-widgets/base",
            "_model_module_version": "1.2.0",
            "_model_name": "LayoutModel",
            "_view_count": null,
            "_view_module": "@jupyter-widgets/base",
            "_view_module_version": "1.2.0",
            "_view_name": "LayoutView",
            "align_content": null,
            "align_items": null,
            "align_self": null,
            "border": null,
            "bottom": null,
            "display": null,
            "flex": null,
            "flex_flow": null,
            "grid_area": null,
            "grid_auto_columns": null,
            "grid_auto_flow": null,
            "grid_auto_rows": null,
            "grid_column": null,
            "grid_gap": null,
            "grid_row": null,
            "grid_template_areas": null,
            "grid_template_columns": null,
            "grid_template_rows": null,
            "height": null,
            "justify_content": null,
            "justify_items": null,
            "left": null,
            "margin": null,
            "max_height": null,
            "max_width": null,
            "min_height": null,
            "min_width": null,
            "object_fit": null,
            "object_position": null,
            "order": null,
            "overflow": null,
            "overflow_x": null,
            "overflow_y": null,
            "padding": null,
            "right": null,
            "top": null,
            "visibility": null,
            "width": null
          }
        },
        "c62a41c8e68d4c8b9b3592b29cd56197": {
          "model_module": "@jupyter-widgets/controls",
          "model_name": "DescriptionStyleModel",
          "model_module_version": "1.5.0",
          "state": {
            "_model_module": "@jupyter-widgets/controls",
            "_model_module_version": "1.5.0",
            "_model_name": "DescriptionStyleModel",
            "_view_count": null,
            "_view_module": "@jupyter-widgets/base",
            "_view_module_version": "1.2.0",
            "_view_name": "StyleView",
            "description_width": ""
          }
        },
        "5cbe182f4a104aa4981bd6aeab4fa72b": {
          "model_module": "@jupyter-widgets/base",
          "model_name": "LayoutModel",
          "model_module_version": "1.2.0",
          "state": {
            "_model_module": "@jupyter-widgets/base",
            "_model_module_version": "1.2.0",
            "_model_name": "LayoutModel",
            "_view_count": null,
            "_view_module": "@jupyter-widgets/base",
            "_view_module_version": "1.2.0",
            "_view_name": "LayoutView",
            "align_content": null,
            "align_items": null,
            "align_self": null,
            "border": null,
            "bottom": null,
            "display": null,
            "flex": null,
            "flex_flow": null,
            "grid_area": null,
            "grid_auto_columns": null,
            "grid_auto_flow": null,
            "grid_auto_rows": null,
            "grid_column": null,
            "grid_gap": null,
            "grid_row": null,
            "grid_template_areas": null,
            "grid_template_columns": null,
            "grid_template_rows": null,
            "height": null,
            "justify_content": null,
            "justify_items": null,
            "left": null,
            "margin": null,
            "max_height": null,
            "max_width": null,
            "min_height": null,
            "min_width": null,
            "object_fit": null,
            "object_position": null,
            "order": null,
            "overflow": null,
            "overflow_x": null,
            "overflow_y": null,
            "padding": null,
            "right": null,
            "top": null,
            "visibility": null,
            "width": null
          }
        },
        "4aafe9dfea4e4ababa1078446f848757": {
          "model_module": "@jupyter-widgets/controls",
          "model_name": "ProgressStyleModel",
          "model_module_version": "1.5.0",
          "state": {
            "_model_module": "@jupyter-widgets/controls",
            "_model_module_version": "1.5.0",
            "_model_name": "ProgressStyleModel",
            "_view_count": null,
            "_view_module": "@jupyter-widgets/base",
            "_view_module_version": "1.2.0",
            "_view_name": "StyleView",
            "bar_color": null,
            "description_width": ""
          }
        },
        "52ab98bda44b41a39c51dc25c9d08097": {
          "model_module": "@jupyter-widgets/base",
          "model_name": "LayoutModel",
          "model_module_version": "1.2.0",
          "state": {
            "_model_module": "@jupyter-widgets/base",
            "_model_module_version": "1.2.0",
            "_model_name": "LayoutModel",
            "_view_count": null,
            "_view_module": "@jupyter-widgets/base",
            "_view_module_version": "1.2.0",
            "_view_name": "LayoutView",
            "align_content": null,
            "align_items": null,
            "align_self": null,
            "border": null,
            "bottom": null,
            "display": null,
            "flex": null,
            "flex_flow": null,
            "grid_area": null,
            "grid_auto_columns": null,
            "grid_auto_flow": null,
            "grid_auto_rows": null,
            "grid_column": null,
            "grid_gap": null,
            "grid_row": null,
            "grid_template_areas": null,
            "grid_template_columns": null,
            "grid_template_rows": null,
            "height": null,
            "justify_content": null,
            "justify_items": null,
            "left": null,
            "margin": null,
            "max_height": null,
            "max_width": null,
            "min_height": null,
            "min_width": null,
            "object_fit": null,
            "object_position": null,
            "order": null,
            "overflow": null,
            "overflow_x": null,
            "overflow_y": null,
            "padding": null,
            "right": null,
            "top": null,
            "visibility": null,
            "width": null
          }
        },
        "eb1a69ed2b3e40e896f6793ea8b6d324": {
          "model_module": "@jupyter-widgets/controls",
          "model_name": "DescriptionStyleModel",
          "model_module_version": "1.5.0",
          "state": {
            "_model_module": "@jupyter-widgets/controls",
            "_model_module_version": "1.5.0",
            "_model_name": "DescriptionStyleModel",
            "_view_count": null,
            "_view_module": "@jupyter-widgets/base",
            "_view_module_version": "1.2.0",
            "_view_name": "StyleView",
            "description_width": ""
          }
        },
        "0c66862adf8741efa921ef84c2782893": {
          "model_module": "@jupyter-widgets/controls",
          "model_name": "HBoxModel",
          "model_module_version": "1.5.0",
          "state": {
            "_dom_classes": [],
            "_model_module": "@jupyter-widgets/controls",
            "_model_module_version": "1.5.0",
            "_model_name": "HBoxModel",
            "_view_count": null,
            "_view_module": "@jupyter-widgets/controls",
            "_view_module_version": "1.5.0",
            "_view_name": "HBoxView",
            "box_style": "",
            "children": [
              "IPY_MODEL_3d5e9cbe16934bf590748caacf7b04f7",
              "IPY_MODEL_e8f69c18250e41c7884e4aada0c91d29",
              "IPY_MODEL_7d0a9413e8ff4a048e51b1e9f4a13238"
            ],
            "layout": "IPY_MODEL_4d4da6815e5e4cf5bff40bb19e4c0227"
          }
        },
        "3d5e9cbe16934bf590748caacf7b04f7": {
          "model_module": "@jupyter-widgets/controls",
          "model_name": "HTMLModel",
          "model_module_version": "1.5.0",
          "state": {
            "_dom_classes": [],
            "_model_module": "@jupyter-widgets/controls",
            "_model_module_version": "1.5.0",
            "_model_name": "HTMLModel",
            "_view_count": null,
            "_view_module": "@jupyter-widgets/controls",
            "_view_module_version": "1.5.0",
            "_view_name": "HTMLView",
            "description": "",
            "description_tooltip": null,
            "layout": "IPY_MODEL_e123838c49534685849855816a6b9e2f",
            "placeholder": "​",
            "style": "IPY_MODEL_995b461dff8043128d96e5fece75af16",
            "value": "generation_config.json: 100%"
          }
        },
        "e8f69c18250e41c7884e4aada0c91d29": {
          "model_module": "@jupyter-widgets/controls",
          "model_name": "FloatProgressModel",
          "model_module_version": "1.5.0",
          "state": {
            "_dom_classes": [],
            "_model_module": "@jupyter-widgets/controls",
            "_model_module_version": "1.5.0",
            "_model_name": "FloatProgressModel",
            "_view_count": null,
            "_view_module": "@jupyter-widgets/controls",
            "_view_module_version": "1.5.0",
            "_view_name": "ProgressView",
            "bar_style": "success",
            "description": "",
            "description_tooltip": null,
            "layout": "IPY_MODEL_c4dff6092865487e9258d6dea7a603e6",
            "max": 198,
            "min": 0,
            "orientation": "horizontal",
            "style": "IPY_MODEL_0bb9268f6ecd4e45a7f339d386041bab",
            "value": 198
          }
        },
        "7d0a9413e8ff4a048e51b1e9f4a13238": {
          "model_module": "@jupyter-widgets/controls",
          "model_name": "HTMLModel",
          "model_module_version": "1.5.0",
          "state": {
            "_dom_classes": [],
            "_model_module": "@jupyter-widgets/controls",
            "_model_module_version": "1.5.0",
            "_model_name": "HTMLModel",
            "_view_count": null,
            "_view_module": "@jupyter-widgets/controls",
            "_view_module_version": "1.5.0",
            "_view_name": "HTMLView",
            "description": "",
            "description_tooltip": null,
            "layout": "IPY_MODEL_2fb82d37023e48beb7a1d1ca6e0008dd",
            "placeholder": "​",
            "style": "IPY_MODEL_3b2aee15e3834a31a511c5e1d23da62f",
            "value": " 198/198 [00:00&lt;00:00, 10.7kB/s]"
          }
        },
        "4d4da6815e5e4cf5bff40bb19e4c0227": {
          "model_module": "@jupyter-widgets/base",
          "model_name": "LayoutModel",
          "model_module_version": "1.2.0",
          "state": {
            "_model_module": "@jupyter-widgets/base",
            "_model_module_version": "1.2.0",
            "_model_name": "LayoutModel",
            "_view_count": null,
            "_view_module": "@jupyter-widgets/base",
            "_view_module_version": "1.2.0",
            "_view_name": "LayoutView",
            "align_content": null,
            "align_items": null,
            "align_self": null,
            "border": null,
            "bottom": null,
            "display": null,
            "flex": null,
            "flex_flow": null,
            "grid_area": null,
            "grid_auto_columns": null,
            "grid_auto_flow": null,
            "grid_auto_rows": null,
            "grid_column": null,
            "grid_gap": null,
            "grid_row": null,
            "grid_template_areas": null,
            "grid_template_columns": null,
            "grid_template_rows": null,
            "height": null,
            "justify_content": null,
            "justify_items": null,
            "left": null,
            "margin": null,
            "max_height": null,
            "max_width": null,
            "min_height": null,
            "min_width": null,
            "object_fit": null,
            "object_position": null,
            "order": null,
            "overflow": null,
            "overflow_x": null,
            "overflow_y": null,
            "padding": null,
            "right": null,
            "top": null,
            "visibility": null,
            "width": null
          }
        },
        "e123838c49534685849855816a6b9e2f": {
          "model_module": "@jupyter-widgets/base",
          "model_name": "LayoutModel",
          "model_module_version": "1.2.0",
          "state": {
            "_model_module": "@jupyter-widgets/base",
            "_model_module_version": "1.2.0",
            "_model_name": "LayoutModel",
            "_view_count": null,
            "_view_module": "@jupyter-widgets/base",
            "_view_module_version": "1.2.0",
            "_view_name": "LayoutView",
            "align_content": null,
            "align_items": null,
            "align_self": null,
            "border": null,
            "bottom": null,
            "display": null,
            "flex": null,
            "flex_flow": null,
            "grid_area": null,
            "grid_auto_columns": null,
            "grid_auto_flow": null,
            "grid_auto_rows": null,
            "grid_column": null,
            "grid_gap": null,
            "grid_row": null,
            "grid_template_areas": null,
            "grid_template_columns": null,
            "grid_template_rows": null,
            "height": null,
            "justify_content": null,
            "justify_items": null,
            "left": null,
            "margin": null,
            "max_height": null,
            "max_width": null,
            "min_height": null,
            "min_width": null,
            "object_fit": null,
            "object_position": null,
            "order": null,
            "overflow": null,
            "overflow_x": null,
            "overflow_y": null,
            "padding": null,
            "right": null,
            "top": null,
            "visibility": null,
            "width": null
          }
        },
        "995b461dff8043128d96e5fece75af16": {
          "model_module": "@jupyter-widgets/controls",
          "model_name": "DescriptionStyleModel",
          "model_module_version": "1.5.0",
          "state": {
            "_model_module": "@jupyter-widgets/controls",
            "_model_module_version": "1.5.0",
            "_model_name": "DescriptionStyleModel",
            "_view_count": null,
            "_view_module": "@jupyter-widgets/base",
            "_view_module_version": "1.2.0",
            "_view_name": "StyleView",
            "description_width": ""
          }
        },
        "c4dff6092865487e9258d6dea7a603e6": {
          "model_module": "@jupyter-widgets/base",
          "model_name": "LayoutModel",
          "model_module_version": "1.2.0",
          "state": {
            "_model_module": "@jupyter-widgets/base",
            "_model_module_version": "1.2.0",
            "_model_name": "LayoutModel",
            "_view_count": null,
            "_view_module": "@jupyter-widgets/base",
            "_view_module_version": "1.2.0",
            "_view_name": "LayoutView",
            "align_content": null,
            "align_items": null,
            "align_self": null,
            "border": null,
            "bottom": null,
            "display": null,
            "flex": null,
            "flex_flow": null,
            "grid_area": null,
            "grid_auto_columns": null,
            "grid_auto_flow": null,
            "grid_auto_rows": null,
            "grid_column": null,
            "grid_gap": null,
            "grid_row": null,
            "grid_template_areas": null,
            "grid_template_columns": null,
            "grid_template_rows": null,
            "height": null,
            "justify_content": null,
            "justify_items": null,
            "left": null,
            "margin": null,
            "max_height": null,
            "max_width": null,
            "min_height": null,
            "min_width": null,
            "object_fit": null,
            "object_position": null,
            "order": null,
            "overflow": null,
            "overflow_x": null,
            "overflow_y": null,
            "padding": null,
            "right": null,
            "top": null,
            "visibility": null,
            "width": null
          }
        },
        "0bb9268f6ecd4e45a7f339d386041bab": {
          "model_module": "@jupyter-widgets/controls",
          "model_name": "ProgressStyleModel",
          "model_module_version": "1.5.0",
          "state": {
            "_model_module": "@jupyter-widgets/controls",
            "_model_module_version": "1.5.0",
            "_model_name": "ProgressStyleModel",
            "_view_count": null,
            "_view_module": "@jupyter-widgets/base",
            "_view_module_version": "1.2.0",
            "_view_name": "StyleView",
            "bar_color": null,
            "description_width": ""
          }
        },
        "2fb82d37023e48beb7a1d1ca6e0008dd": {
          "model_module": "@jupyter-widgets/base",
          "model_name": "LayoutModel",
          "model_module_version": "1.2.0",
          "state": {
            "_model_module": "@jupyter-widgets/base",
            "_model_module_version": "1.2.0",
            "_model_name": "LayoutModel",
            "_view_count": null,
            "_view_module": "@jupyter-widgets/base",
            "_view_module_version": "1.2.0",
            "_view_name": "LayoutView",
            "align_content": null,
            "align_items": null,
            "align_self": null,
            "border": null,
            "bottom": null,
            "display": null,
            "flex": null,
            "flex_flow": null,
            "grid_area": null,
            "grid_auto_columns": null,
            "grid_auto_flow": null,
            "grid_auto_rows": null,
            "grid_column": null,
            "grid_gap": null,
            "grid_row": null,
            "grid_template_areas": null,
            "grid_template_columns": null,
            "grid_template_rows": null,
            "height": null,
            "justify_content": null,
            "justify_items": null,
            "left": null,
            "margin": null,
            "max_height": null,
            "max_width": null,
            "min_height": null,
            "min_width": null,
            "object_fit": null,
            "object_position": null,
            "order": null,
            "overflow": null,
            "overflow_x": null,
            "overflow_y": null,
            "padding": null,
            "right": null,
            "top": null,
            "visibility": null,
            "width": null
          }
        },
        "3b2aee15e3834a31a511c5e1d23da62f": {
          "model_module": "@jupyter-widgets/controls",
          "model_name": "DescriptionStyleModel",
          "model_module_version": "1.5.0",
          "state": {
            "_model_module": "@jupyter-widgets/controls",
            "_model_module_version": "1.5.0",
            "_model_name": "DescriptionStyleModel",
            "_view_count": null,
            "_view_module": "@jupyter-widgets/base",
            "_view_module_version": "1.2.0",
            "_view_name": "StyleView",
            "description_width": ""
          }
        },
        "8c1b5fb36b7f4fa485d4ba0b1737911e": {
          "model_module": "@jupyter-widgets/controls",
          "model_name": "HBoxModel",
          "model_module_version": "1.5.0",
          "state": {
            "_dom_classes": [],
            "_model_module": "@jupyter-widgets/controls",
            "_model_module_version": "1.5.0",
            "_model_name": "HBoxModel",
            "_view_count": null,
            "_view_module": "@jupyter-widgets/controls",
            "_view_module_version": "1.5.0",
            "_view_name": "HBoxView",
            "box_style": "",
            "children": [
              "IPY_MODEL_8090e7d15bd94e6d82406e9c9f254903",
              "IPY_MODEL_ca65988aa308480cb8827fe99562edee",
              "IPY_MODEL_47ab5c62fc32458ead4cac98560ef4d8"
            ],
            "layout": "IPY_MODEL_6e378c10e42a47bea7ac1c228b033500"
          }
        },
        "8090e7d15bd94e6d82406e9c9f254903": {
          "model_module": "@jupyter-widgets/controls",
          "model_name": "HTMLModel",
          "model_module_version": "1.5.0",
          "state": {
            "_dom_classes": [],
            "_model_module": "@jupyter-widgets/controls",
            "_model_module_version": "1.5.0",
            "_model_name": "HTMLModel",
            "_view_count": null,
            "_view_module": "@jupyter-widgets/controls",
            "_view_module_version": "1.5.0",
            "_view_name": "HTMLView",
            "description": "",
            "description_tooltip": null,
            "layout": "IPY_MODEL_93111c94c7d74139838b99b774bb26cf",
            "placeholder": "​",
            "style": "IPY_MODEL_bfe8cf012dca413c8ab0e1943d190219",
            "value": "tokenizer_config.json: 100%"
          }
        },
        "ca65988aa308480cb8827fe99562edee": {
          "model_module": "@jupyter-widgets/controls",
          "model_name": "FloatProgressModel",
          "model_module_version": "1.5.0",
          "state": {
            "_dom_classes": [],
            "_model_module": "@jupyter-widgets/controls",
            "_model_module_version": "1.5.0",
            "_model_name": "FloatProgressModel",
            "_view_count": null,
            "_view_module": "@jupyter-widgets/controls",
            "_view_module_version": "1.5.0",
            "_view_name": "ProgressView",
            "bar_style": "success",
            "description": "",
            "description_tooltip": null,
            "layout": "IPY_MODEL_b731661fb49b4ef9b521a0a23e81292d",
            "max": 50641,
            "min": 0,
            "orientation": "horizontal",
            "style": "IPY_MODEL_a302175af7284c36a597387a79d0f646",
            "value": 50641
          }
        },
        "47ab5c62fc32458ead4cac98560ef4d8": {
          "model_module": "@jupyter-widgets/controls",
          "model_name": "HTMLModel",
          "model_module_version": "1.5.0",
          "state": {
            "_dom_classes": [],
            "_model_module": "@jupyter-widgets/controls",
            "_model_module_version": "1.5.0",
            "_model_name": "HTMLModel",
            "_view_count": null,
            "_view_module": "@jupyter-widgets/controls",
            "_view_module_version": "1.5.0",
            "_view_name": "HTMLView",
            "description": "",
            "description_tooltip": null,
            "layout": "IPY_MODEL_f8fe5aaf68e6417d9d944c672e07011d",
            "placeholder": "​",
            "style": "IPY_MODEL_cbc923107776455d97e4cbfa02244c4c",
            "value": " 50.6k/50.6k [00:00&lt;00:00, 2.44MB/s]"
          }
        },
        "6e378c10e42a47bea7ac1c228b033500": {
          "model_module": "@jupyter-widgets/base",
          "model_name": "LayoutModel",
          "model_module_version": "1.2.0",
          "state": {
            "_model_module": "@jupyter-widgets/base",
            "_model_module_version": "1.2.0",
            "_model_name": "LayoutModel",
            "_view_count": null,
            "_view_module": "@jupyter-widgets/base",
            "_view_module_version": "1.2.0",
            "_view_name": "LayoutView",
            "align_content": null,
            "align_items": null,
            "align_self": null,
            "border": null,
            "bottom": null,
            "display": null,
            "flex": null,
            "flex_flow": null,
            "grid_area": null,
            "grid_auto_columns": null,
            "grid_auto_flow": null,
            "grid_auto_rows": null,
            "grid_column": null,
            "grid_gap": null,
            "grid_row": null,
            "grid_template_areas": null,
            "grid_template_columns": null,
            "grid_template_rows": null,
            "height": null,
            "justify_content": null,
            "justify_items": null,
            "left": null,
            "margin": null,
            "max_height": null,
            "max_width": null,
            "min_height": null,
            "min_width": null,
            "object_fit": null,
            "object_position": null,
            "order": null,
            "overflow": null,
            "overflow_x": null,
            "overflow_y": null,
            "padding": null,
            "right": null,
            "top": null,
            "visibility": null,
            "width": null
          }
        },
        "93111c94c7d74139838b99b774bb26cf": {
          "model_module": "@jupyter-widgets/base",
          "model_name": "LayoutModel",
          "model_module_version": "1.2.0",
          "state": {
            "_model_module": "@jupyter-widgets/base",
            "_model_module_version": "1.2.0",
            "_model_name": "LayoutModel",
            "_view_count": null,
            "_view_module": "@jupyter-widgets/base",
            "_view_module_version": "1.2.0",
            "_view_name": "LayoutView",
            "align_content": null,
            "align_items": null,
            "align_self": null,
            "border": null,
            "bottom": null,
            "display": null,
            "flex": null,
            "flex_flow": null,
            "grid_area": null,
            "grid_auto_columns": null,
            "grid_auto_flow": null,
            "grid_auto_rows": null,
            "grid_column": null,
            "grid_gap": null,
            "grid_row": null,
            "grid_template_areas": null,
            "grid_template_columns": null,
            "grid_template_rows": null,
            "height": null,
            "justify_content": null,
            "justify_items": null,
            "left": null,
            "margin": null,
            "max_height": null,
            "max_width": null,
            "min_height": null,
            "min_width": null,
            "object_fit": null,
            "object_position": null,
            "order": null,
            "overflow": null,
            "overflow_x": null,
            "overflow_y": null,
            "padding": null,
            "right": null,
            "top": null,
            "visibility": null,
            "width": null
          }
        },
        "bfe8cf012dca413c8ab0e1943d190219": {
          "model_module": "@jupyter-widgets/controls",
          "model_name": "DescriptionStyleModel",
          "model_module_version": "1.5.0",
          "state": {
            "_model_module": "@jupyter-widgets/controls",
            "_model_module_version": "1.5.0",
            "_model_name": "DescriptionStyleModel",
            "_view_count": null,
            "_view_module": "@jupyter-widgets/base",
            "_view_module_version": "1.2.0",
            "_view_name": "StyleView",
            "description_width": ""
          }
        },
        "b731661fb49b4ef9b521a0a23e81292d": {
          "model_module": "@jupyter-widgets/base",
          "model_name": "LayoutModel",
          "model_module_version": "1.2.0",
          "state": {
            "_model_module": "@jupyter-widgets/base",
            "_model_module_version": "1.2.0",
            "_model_name": "LayoutModel",
            "_view_count": null,
            "_view_module": "@jupyter-widgets/base",
            "_view_module_version": "1.2.0",
            "_view_name": "LayoutView",
            "align_content": null,
            "align_items": null,
            "align_self": null,
            "border": null,
            "bottom": null,
            "display": null,
            "flex": null,
            "flex_flow": null,
            "grid_area": null,
            "grid_auto_columns": null,
            "grid_auto_flow": null,
            "grid_auto_rows": null,
            "grid_column": null,
            "grid_gap": null,
            "grid_row": null,
            "grid_template_areas": null,
            "grid_template_columns": null,
            "grid_template_rows": null,
            "height": null,
            "justify_content": null,
            "justify_items": null,
            "left": null,
            "margin": null,
            "max_height": null,
            "max_width": null,
            "min_height": null,
            "min_width": null,
            "object_fit": null,
            "object_position": null,
            "order": null,
            "overflow": null,
            "overflow_x": null,
            "overflow_y": null,
            "padding": null,
            "right": null,
            "top": null,
            "visibility": null,
            "width": null
          }
        },
        "a302175af7284c36a597387a79d0f646": {
          "model_module": "@jupyter-widgets/controls",
          "model_name": "ProgressStyleModel",
          "model_module_version": "1.5.0",
          "state": {
            "_model_module": "@jupyter-widgets/controls",
            "_model_module_version": "1.5.0",
            "_model_name": "ProgressStyleModel",
            "_view_count": null,
            "_view_module": "@jupyter-widgets/base",
            "_view_module_version": "1.2.0",
            "_view_name": "StyleView",
            "bar_color": null,
            "description_width": ""
          }
        },
        "f8fe5aaf68e6417d9d944c672e07011d": {
          "model_module": "@jupyter-widgets/base",
          "model_name": "LayoutModel",
          "model_module_version": "1.2.0",
          "state": {
            "_model_module": "@jupyter-widgets/base",
            "_model_module_version": "1.2.0",
            "_model_name": "LayoutModel",
            "_view_count": null,
            "_view_module": "@jupyter-widgets/base",
            "_view_module_version": "1.2.0",
            "_view_name": "LayoutView",
            "align_content": null,
            "align_items": null,
            "align_self": null,
            "border": null,
            "bottom": null,
            "display": null,
            "flex": null,
            "flex_flow": null,
            "grid_area": null,
            "grid_auto_columns": null,
            "grid_auto_flow": null,
            "grid_auto_rows": null,
            "grid_column": null,
            "grid_gap": null,
            "grid_row": null,
            "grid_template_areas": null,
            "grid_template_columns": null,
            "grid_template_rows": null,
            "height": null,
            "justify_content": null,
            "justify_items": null,
            "left": null,
            "margin": null,
            "max_height": null,
            "max_width": null,
            "min_height": null,
            "min_width": null,
            "object_fit": null,
            "object_position": null,
            "order": null,
            "overflow": null,
            "overflow_x": null,
            "overflow_y": null,
            "padding": null,
            "right": null,
            "top": null,
            "visibility": null,
            "width": null
          }
        },
        "cbc923107776455d97e4cbfa02244c4c": {
          "model_module": "@jupyter-widgets/controls",
          "model_name": "DescriptionStyleModel",
          "model_module_version": "1.5.0",
          "state": {
            "_model_module": "@jupyter-widgets/controls",
            "_model_module_version": "1.5.0",
            "_model_name": "DescriptionStyleModel",
            "_view_count": null,
            "_view_module": "@jupyter-widgets/base",
            "_view_module_version": "1.2.0",
            "_view_name": "StyleView",
            "description_width": ""
          }
        },
        "76cb8230fc9c4c9f8c812437bcf8efba": {
          "model_module": "@jupyter-widgets/controls",
          "model_name": "HBoxModel",
          "model_module_version": "1.5.0",
          "state": {
            "_dom_classes": [],
            "_model_module": "@jupyter-widgets/controls",
            "_model_module_version": "1.5.0",
            "_model_name": "HBoxModel",
            "_view_count": null,
            "_view_module": "@jupyter-widgets/controls",
            "_view_module_version": "1.5.0",
            "_view_name": "HBoxView",
            "box_style": "",
            "children": [
              "IPY_MODEL_8c15bf1e2bf7463ba3905200ac7395b2",
              "IPY_MODEL_9fc167aadc2b491bbe5874870e7aff8d",
              "IPY_MODEL_277e5a948a914b64ba777726696969b4"
            ],
            "layout": "IPY_MODEL_22048c16f2f44acd979489ad396b6ce5"
          }
        },
        "8c15bf1e2bf7463ba3905200ac7395b2": {
          "model_module": "@jupyter-widgets/controls",
          "model_name": "HTMLModel",
          "model_module_version": "1.5.0",
          "state": {
            "_dom_classes": [],
            "_model_module": "@jupyter-widgets/controls",
            "_model_module_version": "1.5.0",
            "_model_name": "HTMLModel",
            "_view_count": null,
            "_view_module": "@jupyter-widgets/controls",
            "_view_module_version": "1.5.0",
            "_view_name": "HTMLView",
            "description": "",
            "description_tooltip": null,
            "layout": "IPY_MODEL_4b7fa8d89c804d98bfc6c04da890b529",
            "placeholder": "​",
            "style": "IPY_MODEL_fce006a360294264abe5a29d77c507ac",
            "value": "tokenizer.json: 100%"
          }
        },
        "9fc167aadc2b491bbe5874870e7aff8d": {
          "model_module": "@jupyter-widgets/controls",
          "model_name": "FloatProgressModel",
          "model_module_version": "1.5.0",
          "state": {
            "_dom_classes": [],
            "_model_module": "@jupyter-widgets/controls",
            "_model_module_version": "1.5.0",
            "_model_name": "FloatProgressModel",
            "_view_count": null,
            "_view_module": "@jupyter-widgets/controls",
            "_view_module_version": "1.5.0",
            "_view_name": "ProgressView",
            "bar_style": "success",
            "description": "",
            "description_tooltip": null,
            "layout": "IPY_MODEL_85af2e4429404a2d8a215ba608a95bde",
            "max": 9085698,
            "min": 0,
            "orientation": "horizontal",
            "style": "IPY_MODEL_3db6ff25275c49519230777478b84c58",
            "value": 9085698
          }
        },
        "277e5a948a914b64ba777726696969b4": {
          "model_module": "@jupyter-widgets/controls",
          "model_name": "HTMLModel",
          "model_module_version": "1.5.0",
          "state": {
            "_dom_classes": [],
            "_model_module": "@jupyter-widgets/controls",
            "_model_module_version": "1.5.0",
            "_model_name": "HTMLModel",
            "_view_count": null,
            "_view_module": "@jupyter-widgets/controls",
            "_view_module_version": "1.5.0",
            "_view_name": "HTMLView",
            "description": "",
            "description_tooltip": null,
            "layout": "IPY_MODEL_f90f858b03324ca89933cd4e60cf8719",
            "placeholder": "​",
            "style": "IPY_MODEL_bdddb6f7baa241acb6fc72edef893315",
            "value": " 9.09M/9.09M [00:04&lt;00:00, 2.00MB/s]"
          }
        },
        "22048c16f2f44acd979489ad396b6ce5": {
          "model_module": "@jupyter-widgets/base",
          "model_name": "LayoutModel",
          "model_module_version": "1.2.0",
          "state": {
            "_model_module": "@jupyter-widgets/base",
            "_model_module_version": "1.2.0",
            "_model_name": "LayoutModel",
            "_view_count": null,
            "_view_module": "@jupyter-widgets/base",
            "_view_module_version": "1.2.0",
            "_view_name": "LayoutView",
            "align_content": null,
            "align_items": null,
            "align_self": null,
            "border": null,
            "bottom": null,
            "display": null,
            "flex": null,
            "flex_flow": null,
            "grid_area": null,
            "grid_auto_columns": null,
            "grid_auto_flow": null,
            "grid_auto_rows": null,
            "grid_column": null,
            "grid_gap": null,
            "grid_row": null,
            "grid_template_areas": null,
            "grid_template_columns": null,
            "grid_template_rows": null,
            "height": null,
            "justify_content": null,
            "justify_items": null,
            "left": null,
            "margin": null,
            "max_height": null,
            "max_width": null,
            "min_height": null,
            "min_width": null,
            "object_fit": null,
            "object_position": null,
            "order": null,
            "overflow": null,
            "overflow_x": null,
            "overflow_y": null,
            "padding": null,
            "right": null,
            "top": null,
            "visibility": null,
            "width": null
          }
        },
        "4b7fa8d89c804d98bfc6c04da890b529": {
          "model_module": "@jupyter-widgets/base",
          "model_name": "LayoutModel",
          "model_module_version": "1.2.0",
          "state": {
            "_model_module": "@jupyter-widgets/base",
            "_model_module_version": "1.2.0",
            "_model_name": "LayoutModel",
            "_view_count": null,
            "_view_module": "@jupyter-widgets/base",
            "_view_module_version": "1.2.0",
            "_view_name": "LayoutView",
            "align_content": null,
            "align_items": null,
            "align_self": null,
            "border": null,
            "bottom": null,
            "display": null,
            "flex": null,
            "flex_flow": null,
            "grid_area": null,
            "grid_auto_columns": null,
            "grid_auto_flow": null,
            "grid_auto_rows": null,
            "grid_column": null,
            "grid_gap": null,
            "grid_row": null,
            "grid_template_areas": null,
            "grid_template_columns": null,
            "grid_template_rows": null,
            "height": null,
            "justify_content": null,
            "justify_items": null,
            "left": null,
            "margin": null,
            "max_height": null,
            "max_width": null,
            "min_height": null,
            "min_width": null,
            "object_fit": null,
            "object_position": null,
            "order": null,
            "overflow": null,
            "overflow_x": null,
            "overflow_y": null,
            "padding": null,
            "right": null,
            "top": null,
            "visibility": null,
            "width": null
          }
        },
        "fce006a360294264abe5a29d77c507ac": {
          "model_module": "@jupyter-widgets/controls",
          "model_name": "DescriptionStyleModel",
          "model_module_version": "1.5.0",
          "state": {
            "_model_module": "@jupyter-widgets/controls",
            "_model_module_version": "1.5.0",
            "_model_name": "DescriptionStyleModel",
            "_view_count": null,
            "_view_module": "@jupyter-widgets/base",
            "_view_module_version": "1.2.0",
            "_view_name": "StyleView",
            "description_width": ""
          }
        },
        "85af2e4429404a2d8a215ba608a95bde": {
          "model_module": "@jupyter-widgets/base",
          "model_name": "LayoutModel",
          "model_module_version": "1.2.0",
          "state": {
            "_model_module": "@jupyter-widgets/base",
            "_model_module_version": "1.2.0",
            "_model_name": "LayoutModel",
            "_view_count": null,
            "_view_module": "@jupyter-widgets/base",
            "_view_module_version": "1.2.0",
            "_view_name": "LayoutView",
            "align_content": null,
            "align_items": null,
            "align_self": null,
            "border": null,
            "bottom": null,
            "display": null,
            "flex": null,
            "flex_flow": null,
            "grid_area": null,
            "grid_auto_columns": null,
            "grid_auto_flow": null,
            "grid_auto_rows": null,
            "grid_column": null,
            "grid_gap": null,
            "grid_row": null,
            "grid_template_areas": null,
            "grid_template_columns": null,
            "grid_template_rows": null,
            "height": null,
            "justify_content": null,
            "justify_items": null,
            "left": null,
            "margin": null,
            "max_height": null,
            "max_width": null,
            "min_height": null,
            "min_width": null,
            "object_fit": null,
            "object_position": null,
            "order": null,
            "overflow": null,
            "overflow_x": null,
            "overflow_y": null,
            "padding": null,
            "right": null,
            "top": null,
            "visibility": null,
            "width": null
          }
        },
        "3db6ff25275c49519230777478b84c58": {
          "model_module": "@jupyter-widgets/controls",
          "model_name": "ProgressStyleModel",
          "model_module_version": "1.5.0",
          "state": {
            "_model_module": "@jupyter-widgets/controls",
            "_model_module_version": "1.5.0",
            "_model_name": "ProgressStyleModel",
            "_view_count": null,
            "_view_module": "@jupyter-widgets/base",
            "_view_module_version": "1.2.0",
            "_view_name": "StyleView",
            "bar_color": null,
            "description_width": ""
          }
        },
        "f90f858b03324ca89933cd4e60cf8719": {
          "model_module": "@jupyter-widgets/base",
          "model_name": "LayoutModel",
          "model_module_version": "1.2.0",
          "state": {
            "_model_module": "@jupyter-widgets/base",
            "_model_module_version": "1.2.0",
            "_model_name": "LayoutModel",
            "_view_count": null,
            "_view_module": "@jupyter-widgets/base",
            "_view_module_version": "1.2.0",
            "_view_name": "LayoutView",
            "align_content": null,
            "align_items": null,
            "align_self": null,
            "border": null,
            "bottom": null,
            "display": null,
            "flex": null,
            "flex_flow": null,
            "grid_area": null,
            "grid_auto_columns": null,
            "grid_auto_flow": null,
            "grid_auto_rows": null,
            "grid_column": null,
            "grid_gap": null,
            "grid_row": null,
            "grid_template_areas": null,
            "grid_template_columns": null,
            "grid_template_rows": null,
            "height": null,
            "justify_content": null,
            "justify_items": null,
            "left": null,
            "margin": null,
            "max_height": null,
            "max_width": null,
            "min_height": null,
            "min_width": null,
            "object_fit": null,
            "object_position": null,
            "order": null,
            "overflow": null,
            "overflow_x": null,
            "overflow_y": null,
            "padding": null,
            "right": null,
            "top": null,
            "visibility": null,
            "width": null
          }
        },
        "bdddb6f7baa241acb6fc72edef893315": {
          "model_module": "@jupyter-widgets/controls",
          "model_name": "DescriptionStyleModel",
          "model_module_version": "1.5.0",
          "state": {
            "_model_module": "@jupyter-widgets/controls",
            "_model_module_version": "1.5.0",
            "_model_name": "DescriptionStyleModel",
            "_view_count": null,
            "_view_module": "@jupyter-widgets/base",
            "_view_module_version": "1.2.0",
            "_view_name": "StyleView",
            "description_width": ""
          }
        },
        "3fdc56c9a2d14e18a4c61cc01d2f38c7": {
          "model_module": "@jupyter-widgets/controls",
          "model_name": "HBoxModel",
          "model_module_version": "1.5.0",
          "state": {
            "_dom_classes": [],
            "_model_module": "@jupyter-widgets/controls",
            "_model_module_version": "1.5.0",
            "_model_name": "HBoxModel",
            "_view_count": null,
            "_view_module": "@jupyter-widgets/controls",
            "_view_module_version": "1.5.0",
            "_view_name": "HBoxView",
            "box_style": "",
            "children": [
              "IPY_MODEL_bd2051be0ce44d779c63a57edad253af",
              "IPY_MODEL_98848740ebd4421989b58807909bc84c",
              "IPY_MODEL_f220b3aac1a8449985112c45a7cca97c"
            ],
            "layout": "IPY_MODEL_41b1edaf73e2450b99ca7b807475bc66"
          }
        },
        "bd2051be0ce44d779c63a57edad253af": {
          "model_module": "@jupyter-widgets/controls",
          "model_name": "HTMLModel",
          "model_module_version": "1.5.0",
          "state": {
            "_dom_classes": [],
            "_model_module": "@jupyter-widgets/controls",
            "_model_module_version": "1.5.0",
            "_model_name": "HTMLModel",
            "_view_count": null,
            "_view_module": "@jupyter-widgets/controls",
            "_view_module_version": "1.5.0",
            "_view_name": "HTMLView",
            "description": "",
            "description_tooltip": null,
            "layout": "IPY_MODEL_1c6a1efa31f247899c0b26075174590f",
            "placeholder": "​",
            "style": "IPY_MODEL_c309e0ec89f647e394349f1dc16bb860",
            "value": "special_tokens_map.json: 100%"
          }
        },
        "98848740ebd4421989b58807909bc84c": {
          "model_module": "@jupyter-widgets/controls",
          "model_name": "FloatProgressModel",
          "model_module_version": "1.5.0",
          "state": {
            "_dom_classes": [],
            "_model_module": "@jupyter-widgets/controls",
            "_model_module_version": "1.5.0",
            "_model_name": "FloatProgressModel",
            "_view_count": null,
            "_view_module": "@jupyter-widgets/controls",
            "_view_module_version": "1.5.0",
            "_view_name": "ProgressView",
            "bar_style": "success",
            "description": "",
            "description_tooltip": null,
            "layout": "IPY_MODEL_df5d4ffe12934e80b14fb349573e4653",
            "max": 350,
            "min": 0,
            "orientation": "horizontal",
            "style": "IPY_MODEL_80b05453dd33440dbee0bc0bd29af9c4",
            "value": 350
          }
        },
        "f220b3aac1a8449985112c45a7cca97c": {
          "model_module": "@jupyter-widgets/controls",
          "model_name": "HTMLModel",
          "model_module_version": "1.5.0",
          "state": {
            "_dom_classes": [],
            "_model_module": "@jupyter-widgets/controls",
            "_model_module_version": "1.5.0",
            "_model_name": "HTMLModel",
            "_view_count": null,
            "_view_module": "@jupyter-widgets/controls",
            "_view_module_version": "1.5.0",
            "_view_name": "HTMLView",
            "description": "",
            "description_tooltip": null,
            "layout": "IPY_MODEL_23f53198c0e941129297f0ae24020adf",
            "placeholder": "​",
            "style": "IPY_MODEL_c1d215d6ff1d40359a16935d8cfb0dad",
            "value": " 350/350 [00:00&lt;00:00, 25.6kB/s]"
          }
        },
        "41b1edaf73e2450b99ca7b807475bc66": {
          "model_module": "@jupyter-widgets/base",
          "model_name": "LayoutModel",
          "model_module_version": "1.2.0",
          "state": {
            "_model_module": "@jupyter-widgets/base",
            "_model_module_version": "1.2.0",
            "_model_name": "LayoutModel",
            "_view_count": null,
            "_view_module": "@jupyter-widgets/base",
            "_view_module_version": "1.2.0",
            "_view_name": "LayoutView",
            "align_content": null,
            "align_items": null,
            "align_self": null,
            "border": null,
            "bottom": null,
            "display": null,
            "flex": null,
            "flex_flow": null,
            "grid_area": null,
            "grid_auto_columns": null,
            "grid_auto_flow": null,
            "grid_auto_rows": null,
            "grid_column": null,
            "grid_gap": null,
            "grid_row": null,
            "grid_template_areas": null,
            "grid_template_columns": null,
            "grid_template_rows": null,
            "height": null,
            "justify_content": null,
            "justify_items": null,
            "left": null,
            "margin": null,
            "max_height": null,
            "max_width": null,
            "min_height": null,
            "min_width": null,
            "object_fit": null,
            "object_position": null,
            "order": null,
            "overflow": null,
            "overflow_x": null,
            "overflow_y": null,
            "padding": null,
            "right": null,
            "top": null,
            "visibility": null,
            "width": null
          }
        },
        "1c6a1efa31f247899c0b26075174590f": {
          "model_module": "@jupyter-widgets/base",
          "model_name": "LayoutModel",
          "model_module_version": "1.2.0",
          "state": {
            "_model_module": "@jupyter-widgets/base",
            "_model_module_version": "1.2.0",
            "_model_name": "LayoutModel",
            "_view_count": null,
            "_view_module": "@jupyter-widgets/base",
            "_view_module_version": "1.2.0",
            "_view_name": "LayoutView",
            "align_content": null,
            "align_items": null,
            "align_self": null,
            "border": null,
            "bottom": null,
            "display": null,
            "flex": null,
            "flex_flow": null,
            "grid_area": null,
            "grid_auto_columns": null,
            "grid_auto_flow": null,
            "grid_auto_rows": null,
            "grid_column": null,
            "grid_gap": null,
            "grid_row": null,
            "grid_template_areas": null,
            "grid_template_columns": null,
            "grid_template_rows": null,
            "height": null,
            "justify_content": null,
            "justify_items": null,
            "left": null,
            "margin": null,
            "max_height": null,
            "max_width": null,
            "min_height": null,
            "min_width": null,
            "object_fit": null,
            "object_position": null,
            "order": null,
            "overflow": null,
            "overflow_x": null,
            "overflow_y": null,
            "padding": null,
            "right": null,
            "top": null,
            "visibility": null,
            "width": null
          }
        },
        "c309e0ec89f647e394349f1dc16bb860": {
          "model_module": "@jupyter-widgets/controls",
          "model_name": "DescriptionStyleModel",
          "model_module_version": "1.5.0",
          "state": {
            "_model_module": "@jupyter-widgets/controls",
            "_model_module_version": "1.5.0",
            "_model_name": "DescriptionStyleModel",
            "_view_count": null,
            "_view_module": "@jupyter-widgets/base",
            "_view_module_version": "1.2.0",
            "_view_name": "StyleView",
            "description_width": ""
          }
        },
        "df5d4ffe12934e80b14fb349573e4653": {
          "model_module": "@jupyter-widgets/base",
          "model_name": "LayoutModel",
          "model_module_version": "1.2.0",
          "state": {
            "_model_module": "@jupyter-widgets/base",
            "_model_module_version": "1.2.0",
            "_model_name": "LayoutModel",
            "_view_count": null,
            "_view_module": "@jupyter-widgets/base",
            "_view_module_version": "1.2.0",
            "_view_name": "LayoutView",
            "align_content": null,
            "align_items": null,
            "align_self": null,
            "border": null,
            "bottom": null,
            "display": null,
            "flex": null,
            "flex_flow": null,
            "grid_area": null,
            "grid_auto_columns": null,
            "grid_auto_flow": null,
            "grid_auto_rows": null,
            "grid_column": null,
            "grid_gap": null,
            "grid_row": null,
            "grid_template_areas": null,
            "grid_template_columns": null,
            "grid_template_rows": null,
            "height": null,
            "justify_content": null,
            "justify_items": null,
            "left": null,
            "margin": null,
            "max_height": null,
            "max_width": null,
            "min_height": null,
            "min_width": null,
            "object_fit": null,
            "object_position": null,
            "order": null,
            "overflow": null,
            "overflow_x": null,
            "overflow_y": null,
            "padding": null,
            "right": null,
            "top": null,
            "visibility": null,
            "width": null
          }
        },
        "80b05453dd33440dbee0bc0bd29af9c4": {
          "model_module": "@jupyter-widgets/controls",
          "model_name": "ProgressStyleModel",
          "model_module_version": "1.5.0",
          "state": {
            "_model_module": "@jupyter-widgets/controls",
            "_model_module_version": "1.5.0",
            "_model_name": "ProgressStyleModel",
            "_view_count": null,
            "_view_module": "@jupyter-widgets/base",
            "_view_module_version": "1.2.0",
            "_view_name": "StyleView",
            "bar_color": null,
            "description_width": ""
          }
        },
        "23f53198c0e941129297f0ae24020adf": {
          "model_module": "@jupyter-widgets/base",
          "model_name": "LayoutModel",
          "model_module_version": "1.2.0",
          "state": {
            "_model_module": "@jupyter-widgets/base",
            "_model_module_version": "1.2.0",
            "_model_name": "LayoutModel",
            "_view_count": null,
            "_view_module": "@jupyter-widgets/base",
            "_view_module_version": "1.2.0",
            "_view_name": "LayoutView",
            "align_content": null,
            "align_items": null,
            "align_self": null,
            "border": null,
            "bottom": null,
            "display": null,
            "flex": null,
            "flex_flow": null,
            "grid_area": null,
            "grid_auto_columns": null,
            "grid_auto_flow": null,
            "grid_auto_rows": null,
            "grid_column": null,
            "grid_gap": null,
            "grid_row": null,
            "grid_template_areas": null,
            "grid_template_columns": null,
            "grid_template_rows": null,
            "height": null,
            "justify_content": null,
            "justify_items": null,
            "left": null,
            "margin": null,
            "max_height": null,
            "max_width": null,
            "min_height": null,
            "min_width": null,
            "object_fit": null,
            "object_position": null,
            "order": null,
            "overflow": null,
            "overflow_x": null,
            "overflow_y": null,
            "padding": null,
            "right": null,
            "top": null,
            "visibility": null,
            "width": null
          }
        },
        "c1d215d6ff1d40359a16935d8cfb0dad": {
          "model_module": "@jupyter-widgets/controls",
          "model_name": "DescriptionStyleModel",
          "model_module_version": "1.5.0",
          "state": {
            "_model_module": "@jupyter-widgets/controls",
            "_model_module_version": "1.5.0",
            "_model_name": "DescriptionStyleModel",
            "_view_count": null,
            "_view_module": "@jupyter-widgets/base",
            "_view_module_version": "1.2.0",
            "_view_name": "StyleView",
            "description_width": ""
          }
        },
        "0c18d21e919e46a6a3bc88ab23c8f712": {
          "model_module": "@jupyter-widgets/controls",
          "model_name": "HBoxModel",
          "model_module_version": "1.5.0",
          "state": {
            "_dom_classes": [],
            "_model_module": "@jupyter-widgets/controls",
            "_model_module_version": "1.5.0",
            "_model_name": "HBoxModel",
            "_view_count": null,
            "_view_module": "@jupyter-widgets/controls",
            "_view_module_version": "1.5.0",
            "_view_name": "HBoxView",
            "box_style": "",
            "children": [
              "IPY_MODEL_59f6562685124c8c8eb1d1ae962a362a",
              "IPY_MODEL_5db23d02914041d2a7c966525ce5a02e",
              "IPY_MODEL_2a1ab5a019204f379c7346f1f060d916"
            ],
            "layout": "IPY_MODEL_421b8b8abdc74c44ad11c857d328aa9e"
          }
        },
        "59f6562685124c8c8eb1d1ae962a362a": {
          "model_module": "@jupyter-widgets/controls",
          "model_name": "HTMLModel",
          "model_module_version": "1.5.0",
          "state": {
            "_dom_classes": [],
            "_model_module": "@jupyter-widgets/controls",
            "_model_module_version": "1.5.0",
            "_model_name": "HTMLModel",
            "_view_count": null,
            "_view_module": "@jupyter-widgets/controls",
            "_view_module_version": "1.5.0",
            "_view_name": "HTMLView",
            "description": "",
            "description_tooltip": null,
            "layout": "IPY_MODEL_0e602a3378a64c96831756ab8b8d6edf",
            "placeholder": "​",
            "style": "IPY_MODEL_0cd7dee28bd8426c84b4de09fc68faa0",
            "value": "README.md: 100%"
          }
        },
        "5db23d02914041d2a7c966525ce5a02e": {
          "model_module": "@jupyter-widgets/controls",
          "model_name": "FloatProgressModel",
          "model_module_version": "1.5.0",
          "state": {
            "_dom_classes": [],
            "_model_module": "@jupyter-widgets/controls",
            "_model_module_version": "1.5.0",
            "_model_name": "FloatProgressModel",
            "_view_count": null,
            "_view_module": "@jupyter-widgets/controls",
            "_view_module_version": "1.5.0",
            "_view_name": "ProgressView",
            "bar_style": "success",
            "description": "",
            "description_tooltip": null,
            "layout": "IPY_MODEL_f5d29395ceb94b8caad357a758109c9c",
            "max": 1320,
            "min": 0,
            "orientation": "horizontal",
            "style": "IPY_MODEL_edf10ceef73140aba096128a831a84f6",
            "value": 1320
          }
        },
        "2a1ab5a019204f379c7346f1f060d916": {
          "model_module": "@jupyter-widgets/controls",
          "model_name": "HTMLModel",
          "model_module_version": "1.5.0",
          "state": {
            "_dom_classes": [],
            "_model_module": "@jupyter-widgets/controls",
            "_model_module_version": "1.5.0",
            "_model_name": "HTMLModel",
            "_view_count": null,
            "_view_module": "@jupyter-widgets/controls",
            "_view_module_version": "1.5.0",
            "_view_name": "HTMLView",
            "description": "",
            "description_tooltip": null,
            "layout": "IPY_MODEL_f7de5f0b19e142ec941946481e2d7261",
            "placeholder": "​",
            "style": "IPY_MODEL_2b087c6b011646858ac02d1ba3cbb3a1",
            "value": " 1.32k/1.32k [00:00&lt;00:00, 23.3kB/s]"
          }
        },
        "421b8b8abdc74c44ad11c857d328aa9e": {
          "model_module": "@jupyter-widgets/base",
          "model_name": "LayoutModel",
          "model_module_version": "1.2.0",
          "state": {
            "_model_module": "@jupyter-widgets/base",
            "_model_module_version": "1.2.0",
            "_model_name": "LayoutModel",
            "_view_count": null,
            "_view_module": "@jupyter-widgets/base",
            "_view_module_version": "1.2.0",
            "_view_name": "LayoutView",
            "align_content": null,
            "align_items": null,
            "align_self": null,
            "border": null,
            "bottom": null,
            "display": null,
            "flex": null,
            "flex_flow": null,
            "grid_area": null,
            "grid_auto_columns": null,
            "grid_auto_flow": null,
            "grid_auto_rows": null,
            "grid_column": null,
            "grid_gap": null,
            "grid_row": null,
            "grid_template_areas": null,
            "grid_template_columns": null,
            "grid_template_rows": null,
            "height": null,
            "justify_content": null,
            "justify_items": null,
            "left": null,
            "margin": null,
            "max_height": null,
            "max_width": null,
            "min_height": null,
            "min_width": null,
            "object_fit": null,
            "object_position": null,
            "order": null,
            "overflow": null,
            "overflow_x": null,
            "overflow_y": null,
            "padding": null,
            "right": null,
            "top": null,
            "visibility": null,
            "width": null
          }
        },
        "0e602a3378a64c96831756ab8b8d6edf": {
          "model_module": "@jupyter-widgets/base",
          "model_name": "LayoutModel",
          "model_module_version": "1.2.0",
          "state": {
            "_model_module": "@jupyter-widgets/base",
            "_model_module_version": "1.2.0",
            "_model_name": "LayoutModel",
            "_view_count": null,
            "_view_module": "@jupyter-widgets/base",
            "_view_module_version": "1.2.0",
            "_view_name": "LayoutView",
            "align_content": null,
            "align_items": null,
            "align_self": null,
            "border": null,
            "bottom": null,
            "display": null,
            "flex": null,
            "flex_flow": null,
            "grid_area": null,
            "grid_auto_columns": null,
            "grid_auto_flow": null,
            "grid_auto_rows": null,
            "grid_column": null,
            "grid_gap": null,
            "grid_row": null,
            "grid_template_areas": null,
            "grid_template_columns": null,
            "grid_template_rows": null,
            "height": null,
            "justify_content": null,
            "justify_items": null,
            "left": null,
            "margin": null,
            "max_height": null,
            "max_width": null,
            "min_height": null,
            "min_width": null,
            "object_fit": null,
            "object_position": null,
            "order": null,
            "overflow": null,
            "overflow_x": null,
            "overflow_y": null,
            "padding": null,
            "right": null,
            "top": null,
            "visibility": null,
            "width": null
          }
        },
        "0cd7dee28bd8426c84b4de09fc68faa0": {
          "model_module": "@jupyter-widgets/controls",
          "model_name": "DescriptionStyleModel",
          "model_module_version": "1.5.0",
          "state": {
            "_model_module": "@jupyter-widgets/controls",
            "_model_module_version": "1.5.0",
            "_model_name": "DescriptionStyleModel",
            "_view_count": null,
            "_view_module": "@jupyter-widgets/base",
            "_view_module_version": "1.2.0",
            "_view_name": "StyleView",
            "description_width": ""
          }
        },
        "f5d29395ceb94b8caad357a758109c9c": {
          "model_module": "@jupyter-widgets/base",
          "model_name": "LayoutModel",
          "model_module_version": "1.2.0",
          "state": {
            "_model_module": "@jupyter-widgets/base",
            "_model_module_version": "1.2.0",
            "_model_name": "LayoutModel",
            "_view_count": null,
            "_view_module": "@jupyter-widgets/base",
            "_view_module_version": "1.2.0",
            "_view_name": "LayoutView",
            "align_content": null,
            "align_items": null,
            "align_self": null,
            "border": null,
            "bottom": null,
            "display": null,
            "flex": null,
            "flex_flow": null,
            "grid_area": null,
            "grid_auto_columns": null,
            "grid_auto_flow": null,
            "grid_auto_rows": null,
            "grid_column": null,
            "grid_gap": null,
            "grid_row": null,
            "grid_template_areas": null,
            "grid_template_columns": null,
            "grid_template_rows": null,
            "height": null,
            "justify_content": null,
            "justify_items": null,
            "left": null,
            "margin": null,
            "max_height": null,
            "max_width": null,
            "min_height": null,
            "min_width": null,
            "object_fit": null,
            "object_position": null,
            "order": null,
            "overflow": null,
            "overflow_x": null,
            "overflow_y": null,
            "padding": null,
            "right": null,
            "top": null,
            "visibility": null,
            "width": null
          }
        },
        "edf10ceef73140aba096128a831a84f6": {
          "model_module": "@jupyter-widgets/controls",
          "model_name": "ProgressStyleModel",
          "model_module_version": "1.5.0",
          "state": {
            "_model_module": "@jupyter-widgets/controls",
            "_model_module_version": "1.5.0",
            "_model_name": "ProgressStyleModel",
            "_view_count": null,
            "_view_module": "@jupyter-widgets/base",
            "_view_module_version": "1.2.0",
            "_view_name": "StyleView",
            "bar_color": null,
            "description_width": ""
          }
        },
        "f7de5f0b19e142ec941946481e2d7261": {
          "model_module": "@jupyter-widgets/base",
          "model_name": "LayoutModel",
          "model_module_version": "1.2.0",
          "state": {
            "_model_module": "@jupyter-widgets/base",
            "_model_module_version": "1.2.0",
            "_model_name": "LayoutModel",
            "_view_count": null,
            "_view_module": "@jupyter-widgets/base",
            "_view_module_version": "1.2.0",
            "_view_name": "LayoutView",
            "align_content": null,
            "align_items": null,
            "align_self": null,
            "border": null,
            "bottom": null,
            "display": null,
            "flex": null,
            "flex_flow": null,
            "grid_area": null,
            "grid_auto_columns": null,
            "grid_auto_flow": null,
            "grid_auto_rows": null,
            "grid_column": null,
            "grid_gap": null,
            "grid_row": null,
            "grid_template_areas": null,
            "grid_template_columns": null,
            "grid_template_rows": null,
            "height": null,
            "justify_content": null,
            "justify_items": null,
            "left": null,
            "margin": null,
            "max_height": null,
            "max_width": null,
            "min_height": null,
            "min_width": null,
            "object_fit": null,
            "object_position": null,
            "order": null,
            "overflow": null,
            "overflow_x": null,
            "overflow_y": null,
            "padding": null,
            "right": null,
            "top": null,
            "visibility": null,
            "width": null
          }
        },
        "2b087c6b011646858ac02d1ba3cbb3a1": {
          "model_module": "@jupyter-widgets/controls",
          "model_name": "DescriptionStyleModel",
          "model_module_version": "1.5.0",
          "state": {
            "_model_module": "@jupyter-widgets/controls",
            "_model_module_version": "1.5.0",
            "_model_name": "DescriptionStyleModel",
            "_view_count": null,
            "_view_module": "@jupyter-widgets/base",
            "_view_module_version": "1.2.0",
            "_view_name": "StyleView",
            "description_width": ""
          }
        },
        "a1083c6a063a48bea32fddb9a9aaf66a": {
          "model_module": "@jupyter-widgets/controls",
          "model_name": "HBoxModel",
          "model_module_version": "1.5.0",
          "state": {
            "_dom_classes": [],
            "_model_module": "@jupyter-widgets/controls",
            "_model_module_version": "1.5.0",
            "_model_name": "HBoxModel",
            "_view_count": null,
            "_view_module": "@jupyter-widgets/controls",
            "_view_module_version": "1.5.0",
            "_view_name": "HBoxView",
            "box_style": "",
            "children": [
              "IPY_MODEL_298f03ea76e94c3491c1049fc3d2a88e",
              "IPY_MODEL_c3ebadfb28c14618835e035a245e84d3",
              "IPY_MODEL_d4ec4e4610654395a25e9c4e4bfc8975"
            ],
            "layout": "IPY_MODEL_ece8122a4793447398710041353a1c99"
          }
        },
        "298f03ea76e94c3491c1049fc3d2a88e": {
          "model_module": "@jupyter-widgets/controls",
          "model_name": "HTMLModel",
          "model_module_version": "1.5.0",
          "state": {
            "_dom_classes": [],
            "_model_module": "@jupyter-widgets/controls",
            "_model_module_version": "1.5.0",
            "_model_name": "HTMLModel",
            "_view_count": null,
            "_view_module": "@jupyter-widgets/controls",
            "_view_module_version": "1.5.0",
            "_view_name": "HTMLView",
            "description": "",
            "description_tooltip": null,
            "layout": "IPY_MODEL_9150dc95f2ca4f3ab27077b5d93cf58b",
            "placeholder": "​",
            "style": "IPY_MODEL_5b268c9de5134b76a0773e1ceb9c003a",
            "value": "train.json: 100%"
          }
        },
        "c3ebadfb28c14618835e035a245e84d3": {
          "model_module": "@jupyter-widgets/controls",
          "model_name": "FloatProgressModel",
          "model_module_version": "1.5.0",
          "state": {
            "_dom_classes": [],
            "_model_module": "@jupyter-widgets/controls",
            "_model_module_version": "1.5.0",
            "_model_name": "FloatProgressModel",
            "_view_count": null,
            "_view_module": "@jupyter-widgets/controls",
            "_view_module_version": "1.5.0",
            "_view_name": "ProgressView",
            "bar_style": "danger",
            "description": "",
            "description_tooltip": null,
            "layout": "IPY_MODEL_aff365365952487c83c8105492ce9c62",
            "max": 74851641,
            "min": 0,
            "orientation": "horizontal",
            "style": "IPY_MODEL_da4b5b3a09cd4fbf9aa681ce17f62298",
            "value": 74851634
          }
        },
        "d4ec4e4610654395a25e9c4e4bfc8975": {
          "model_module": "@jupyter-widgets/controls",
          "model_name": "HTMLModel",
          "model_module_version": "1.5.0",
          "state": {
            "_dom_classes": [],
            "_model_module": "@jupyter-widgets/controls",
            "_model_module_version": "1.5.0",
            "_model_name": "HTMLModel",
            "_view_count": null,
            "_view_module": "@jupyter-widgets/controls",
            "_view_module_version": "1.5.0",
            "_view_name": "HTMLView",
            "description": "",
            "description_tooltip": null,
            "layout": "IPY_MODEL_ff884645716c4870837f2240a4c45379",
            "placeholder": "​",
            "style": "IPY_MODEL_a0e2f716ca144b258675def01dd23cc0",
            "value": " 74.9M/74.9M [00:02&lt;00:00, 27.4MB/s]"
          }
        },
        "ece8122a4793447398710041353a1c99": {
          "model_module": "@jupyter-widgets/base",
          "model_name": "LayoutModel",
          "model_module_version": "1.2.0",
          "state": {
            "_model_module": "@jupyter-widgets/base",
            "_model_module_version": "1.2.0",
            "_model_name": "LayoutModel",
            "_view_count": null,
            "_view_module": "@jupyter-widgets/base",
            "_view_module_version": "1.2.0",
            "_view_name": "LayoutView",
            "align_content": null,
            "align_items": null,
            "align_self": null,
            "border": null,
            "bottom": null,
            "display": null,
            "flex": null,
            "flex_flow": null,
            "grid_area": null,
            "grid_auto_columns": null,
            "grid_auto_flow": null,
            "grid_auto_rows": null,
            "grid_column": null,
            "grid_gap": null,
            "grid_row": null,
            "grid_template_areas": null,
            "grid_template_columns": null,
            "grid_template_rows": null,
            "height": null,
            "justify_content": null,
            "justify_items": null,
            "left": null,
            "margin": null,
            "max_height": null,
            "max_width": null,
            "min_height": null,
            "min_width": null,
            "object_fit": null,
            "object_position": null,
            "order": null,
            "overflow": null,
            "overflow_x": null,
            "overflow_y": null,
            "padding": null,
            "right": null,
            "top": null,
            "visibility": null,
            "width": null
          }
        },
        "9150dc95f2ca4f3ab27077b5d93cf58b": {
          "model_module": "@jupyter-widgets/base",
          "model_name": "LayoutModel",
          "model_module_version": "1.2.0",
          "state": {
            "_model_module": "@jupyter-widgets/base",
            "_model_module_version": "1.2.0",
            "_model_name": "LayoutModel",
            "_view_count": null,
            "_view_module": "@jupyter-widgets/base",
            "_view_module_version": "1.2.0",
            "_view_name": "LayoutView",
            "align_content": null,
            "align_items": null,
            "align_self": null,
            "border": null,
            "bottom": null,
            "display": null,
            "flex": null,
            "flex_flow": null,
            "grid_area": null,
            "grid_auto_columns": null,
            "grid_auto_flow": null,
            "grid_auto_rows": null,
            "grid_column": null,
            "grid_gap": null,
            "grid_row": null,
            "grid_template_areas": null,
            "grid_template_columns": null,
            "grid_template_rows": null,
            "height": null,
            "justify_content": null,
            "justify_items": null,
            "left": null,
            "margin": null,
            "max_height": null,
            "max_width": null,
            "min_height": null,
            "min_width": null,
            "object_fit": null,
            "object_position": null,
            "order": null,
            "overflow": null,
            "overflow_x": null,
            "overflow_y": null,
            "padding": null,
            "right": null,
            "top": null,
            "visibility": null,
            "width": null
          }
        },
        "5b268c9de5134b76a0773e1ceb9c003a": {
          "model_module": "@jupyter-widgets/controls",
          "model_name": "DescriptionStyleModel",
          "model_module_version": "1.5.0",
          "state": {
            "_model_module": "@jupyter-widgets/controls",
            "_model_module_version": "1.5.0",
            "_model_name": "DescriptionStyleModel",
            "_view_count": null,
            "_view_module": "@jupyter-widgets/base",
            "_view_module_version": "1.2.0",
            "_view_name": "StyleView",
            "description_width": ""
          }
        },
        "aff365365952487c83c8105492ce9c62": {
          "model_module": "@jupyter-widgets/base",
          "model_name": "LayoutModel",
          "model_module_version": "1.2.0",
          "state": {
            "_model_module": "@jupyter-widgets/base",
            "_model_module_version": "1.2.0",
            "_model_name": "LayoutModel",
            "_view_count": null,
            "_view_module": "@jupyter-widgets/base",
            "_view_module_version": "1.2.0",
            "_view_name": "LayoutView",
            "align_content": null,
            "align_items": null,
            "align_self": null,
            "border": null,
            "bottom": null,
            "display": null,
            "flex": null,
            "flex_flow": null,
            "grid_area": null,
            "grid_auto_columns": null,
            "grid_auto_flow": null,
            "grid_auto_rows": null,
            "grid_column": null,
            "grid_gap": null,
            "grid_row": null,
            "grid_template_areas": null,
            "grid_template_columns": null,
            "grid_template_rows": null,
            "height": null,
            "justify_content": null,
            "justify_items": null,
            "left": null,
            "margin": null,
            "max_height": null,
            "max_width": null,
            "min_height": null,
            "min_width": null,
            "object_fit": null,
            "object_position": null,
            "order": null,
            "overflow": null,
            "overflow_x": null,
            "overflow_y": null,
            "padding": null,
            "right": null,
            "top": null,
            "visibility": null,
            "width": null
          }
        },
        "da4b5b3a09cd4fbf9aa681ce17f62298": {
          "model_module": "@jupyter-widgets/controls",
          "model_name": "ProgressStyleModel",
          "model_module_version": "1.5.0",
          "state": {
            "_model_module": "@jupyter-widgets/controls",
            "_model_module_version": "1.5.0",
            "_model_name": "ProgressStyleModel",
            "_view_count": null,
            "_view_module": "@jupyter-widgets/base",
            "_view_module_version": "1.2.0",
            "_view_name": "StyleView",
            "bar_color": null,
            "description_width": ""
          }
        },
        "ff884645716c4870837f2240a4c45379": {
          "model_module": "@jupyter-widgets/base",
          "model_name": "LayoutModel",
          "model_module_version": "1.2.0",
          "state": {
            "_model_module": "@jupyter-widgets/base",
            "_model_module_version": "1.2.0",
            "_model_name": "LayoutModel",
            "_view_count": null,
            "_view_module": "@jupyter-widgets/base",
            "_view_module_version": "1.2.0",
            "_view_name": "LayoutView",
            "align_content": null,
            "align_items": null,
            "align_self": null,
            "border": null,
            "bottom": null,
            "display": null,
            "flex": null,
            "flex_flow": null,
            "grid_area": null,
            "grid_auto_columns": null,
            "grid_auto_flow": null,
            "grid_auto_rows": null,
            "grid_column": null,
            "grid_gap": null,
            "grid_row": null,
            "grid_template_areas": null,
            "grid_template_columns": null,
            "grid_template_rows": null,
            "height": null,
            "justify_content": null,
            "justify_items": null,
            "left": null,
            "margin": null,
            "max_height": null,
            "max_width": null,
            "min_height": null,
            "min_width": null,
            "object_fit": null,
            "object_position": null,
            "order": null,
            "overflow": null,
            "overflow_x": null,
            "overflow_y": null,
            "padding": null,
            "right": null,
            "top": null,
            "visibility": null,
            "width": null
          }
        },
        "a0e2f716ca144b258675def01dd23cc0": {
          "model_module": "@jupyter-widgets/controls",
          "model_name": "DescriptionStyleModel",
          "model_module_version": "1.5.0",
          "state": {
            "_model_module": "@jupyter-widgets/controls",
            "_model_module_version": "1.5.0",
            "_model_name": "DescriptionStyleModel",
            "_view_count": null,
            "_view_module": "@jupyter-widgets/base",
            "_view_module_version": "1.2.0",
            "_view_name": "StyleView",
            "description_width": ""
          }
        },
        "461757605bb84066a11c96d666402114": {
          "model_module": "@jupyter-widgets/controls",
          "model_name": "HBoxModel",
          "model_module_version": "1.5.0",
          "state": {
            "_dom_classes": [],
            "_model_module": "@jupyter-widgets/controls",
            "_model_module_version": "1.5.0",
            "_model_name": "HBoxModel",
            "_view_count": null,
            "_view_module": "@jupyter-widgets/controls",
            "_view_module_version": "1.5.0",
            "_view_name": "HBoxView",
            "box_style": "",
            "children": [
              "IPY_MODEL_14378b0e6a03499cb98fe0c055fca41f",
              "IPY_MODEL_f357fc6c79ad460fafd3efd84afa145a",
              "IPY_MODEL_65111be7ef364400a009c4e959ded32f"
            ],
            "layout": "IPY_MODEL_bbf467902e344a96a8d1e3d98c500eb7"
          }
        },
        "14378b0e6a03499cb98fe0c055fca41f": {
          "model_module": "@jupyter-widgets/controls",
          "model_name": "HTMLModel",
          "model_module_version": "1.5.0",
          "state": {
            "_dom_classes": [],
            "_model_module": "@jupyter-widgets/controls",
            "_model_module_version": "1.5.0",
            "_model_name": "HTMLModel",
            "_view_count": null,
            "_view_module": "@jupyter-widgets/controls",
            "_view_module_version": "1.5.0",
            "_view_name": "HTMLView",
            "description": "",
            "description_tooltip": null,
            "layout": "IPY_MODEL_aa372a04466d41d88eb00662f0817be5",
            "placeholder": "​",
            "style": "IPY_MODEL_950403af89974b14be782e4593b40c43",
            "value": "Generating train split: 100%"
          }
        },
        "f357fc6c79ad460fafd3efd84afa145a": {
          "model_module": "@jupyter-widgets/controls",
          "model_name": "FloatProgressModel",
          "model_module_version": "1.5.0",
          "state": {
            "_dom_classes": [],
            "_model_module": "@jupyter-widgets/controls",
            "_model_module_version": "1.5.0",
            "_model_name": "FloatProgressModel",
            "_view_count": null,
            "_view_module": "@jupyter-widgets/controls",
            "_view_module_version": "1.5.0",
            "_view_name": "ProgressView",
            "bar_style": "success",
            "description": "",
            "description_tooltip": null,
            "layout": "IPY_MODEL_21b78b20ab9d4686aa36fab6063f4298",
            "max": 197180,
            "min": 0,
            "orientation": "horizontal",
            "style": "IPY_MODEL_6904c9bfe2764ad498cffcbbf02a9c42",
            "value": 197180
          }
        },
        "65111be7ef364400a009c4e959ded32f": {
          "model_module": "@jupyter-widgets/controls",
          "model_name": "HTMLModel",
          "model_module_version": "1.5.0",
          "state": {
            "_dom_classes": [],
            "_model_module": "@jupyter-widgets/controls",
            "_model_module_version": "1.5.0",
            "_model_name": "HTMLModel",
            "_view_count": null,
            "_view_module": "@jupyter-widgets/controls",
            "_view_module_version": "1.5.0",
            "_view_name": "HTMLView",
            "description": "",
            "description_tooltip": null,
            "layout": "IPY_MODEL_105cb8fc668849cdbee45be703c00ef3",
            "placeholder": "​",
            "style": "IPY_MODEL_8c1da1f6dc4f4ac1815f870a204412b4",
            "value": " 197180/197180 [00:02&lt;00:00, 71572.66 examples/s]"
          }
        },
        "bbf467902e344a96a8d1e3d98c500eb7": {
          "model_module": "@jupyter-widgets/base",
          "model_name": "LayoutModel",
          "model_module_version": "1.2.0",
          "state": {
            "_model_module": "@jupyter-widgets/base",
            "_model_module_version": "1.2.0",
            "_model_name": "LayoutModel",
            "_view_count": null,
            "_view_module": "@jupyter-widgets/base",
            "_view_module_version": "1.2.0",
            "_view_name": "LayoutView",
            "align_content": null,
            "align_items": null,
            "align_self": null,
            "border": null,
            "bottom": null,
            "display": null,
            "flex": null,
            "flex_flow": null,
            "grid_area": null,
            "grid_auto_columns": null,
            "grid_auto_flow": null,
            "grid_auto_rows": null,
            "grid_column": null,
            "grid_gap": null,
            "grid_row": null,
            "grid_template_areas": null,
            "grid_template_columns": null,
            "grid_template_rows": null,
            "height": null,
            "justify_content": null,
            "justify_items": null,
            "left": null,
            "margin": null,
            "max_height": null,
            "max_width": null,
            "min_height": null,
            "min_width": null,
            "object_fit": null,
            "object_position": null,
            "order": null,
            "overflow": null,
            "overflow_x": null,
            "overflow_y": null,
            "padding": null,
            "right": null,
            "top": null,
            "visibility": null,
            "width": null
          }
        },
        "aa372a04466d41d88eb00662f0817be5": {
          "model_module": "@jupyter-widgets/base",
          "model_name": "LayoutModel",
          "model_module_version": "1.2.0",
          "state": {
            "_model_module": "@jupyter-widgets/base",
            "_model_module_version": "1.2.0",
            "_model_name": "LayoutModel",
            "_view_count": null,
            "_view_module": "@jupyter-widgets/base",
            "_view_module_version": "1.2.0",
            "_view_name": "LayoutView",
            "align_content": null,
            "align_items": null,
            "align_self": null,
            "border": null,
            "bottom": null,
            "display": null,
            "flex": null,
            "flex_flow": null,
            "grid_area": null,
            "grid_auto_columns": null,
            "grid_auto_flow": null,
            "grid_auto_rows": null,
            "grid_column": null,
            "grid_gap": null,
            "grid_row": null,
            "grid_template_areas": null,
            "grid_template_columns": null,
            "grid_template_rows": null,
            "height": null,
            "justify_content": null,
            "justify_items": null,
            "left": null,
            "margin": null,
            "max_height": null,
            "max_width": null,
            "min_height": null,
            "min_width": null,
            "object_fit": null,
            "object_position": null,
            "order": null,
            "overflow": null,
            "overflow_x": null,
            "overflow_y": null,
            "padding": null,
            "right": null,
            "top": null,
            "visibility": null,
            "width": null
          }
        },
        "950403af89974b14be782e4593b40c43": {
          "model_module": "@jupyter-widgets/controls",
          "model_name": "DescriptionStyleModel",
          "model_module_version": "1.5.0",
          "state": {
            "_model_module": "@jupyter-widgets/controls",
            "_model_module_version": "1.5.0",
            "_model_name": "DescriptionStyleModel",
            "_view_count": null,
            "_view_module": "@jupyter-widgets/base",
            "_view_module_version": "1.2.0",
            "_view_name": "StyleView",
            "description_width": ""
          }
        },
        "21b78b20ab9d4686aa36fab6063f4298": {
          "model_module": "@jupyter-widgets/base",
          "model_name": "LayoutModel",
          "model_module_version": "1.2.0",
          "state": {
            "_model_module": "@jupyter-widgets/base",
            "_model_module_version": "1.2.0",
            "_model_name": "LayoutModel",
            "_view_count": null,
            "_view_module": "@jupyter-widgets/base",
            "_view_module_version": "1.2.0",
            "_view_name": "LayoutView",
            "align_content": null,
            "align_items": null,
            "align_self": null,
            "border": null,
            "bottom": null,
            "display": null,
            "flex": null,
            "flex_flow": null,
            "grid_area": null,
            "grid_auto_columns": null,
            "grid_auto_flow": null,
            "grid_auto_rows": null,
            "grid_column": null,
            "grid_gap": null,
            "grid_row": null,
            "grid_template_areas": null,
            "grid_template_columns": null,
            "grid_template_rows": null,
            "height": null,
            "justify_content": null,
            "justify_items": null,
            "left": null,
            "margin": null,
            "max_height": null,
            "max_width": null,
            "min_height": null,
            "min_width": null,
            "object_fit": null,
            "object_position": null,
            "order": null,
            "overflow": null,
            "overflow_x": null,
            "overflow_y": null,
            "padding": null,
            "right": null,
            "top": null,
            "visibility": null,
            "width": null
          }
        },
        "6904c9bfe2764ad498cffcbbf02a9c42": {
          "model_module": "@jupyter-widgets/controls",
          "model_name": "ProgressStyleModel",
          "model_module_version": "1.5.0",
          "state": {
            "_model_module": "@jupyter-widgets/controls",
            "_model_module_version": "1.5.0",
            "_model_name": "ProgressStyleModel",
            "_view_count": null,
            "_view_module": "@jupyter-widgets/base",
            "_view_module_version": "1.2.0",
            "_view_name": "StyleView",
            "bar_color": null,
            "description_width": ""
          }
        },
        "105cb8fc668849cdbee45be703c00ef3": {
          "model_module": "@jupyter-widgets/base",
          "model_name": "LayoutModel",
          "model_module_version": "1.2.0",
          "state": {
            "_model_module": "@jupyter-widgets/base",
            "_model_module_version": "1.2.0",
            "_model_name": "LayoutModel",
            "_view_count": null,
            "_view_module": "@jupyter-widgets/base",
            "_view_module_version": "1.2.0",
            "_view_name": "LayoutView",
            "align_content": null,
            "align_items": null,
            "align_self": null,
            "border": null,
            "bottom": null,
            "display": null,
            "flex": null,
            "flex_flow": null,
            "grid_area": null,
            "grid_auto_columns": null,
            "grid_auto_flow": null,
            "grid_auto_rows": null,
            "grid_column": null,
            "grid_gap": null,
            "grid_row": null,
            "grid_template_areas": null,
            "grid_template_columns": null,
            "grid_template_rows": null,
            "height": null,
            "justify_content": null,
            "justify_items": null,
            "left": null,
            "margin": null,
            "max_height": null,
            "max_width": null,
            "min_height": null,
            "min_width": null,
            "object_fit": null,
            "object_position": null,
            "order": null,
            "overflow": null,
            "overflow_x": null,
            "overflow_y": null,
            "padding": null,
            "right": null,
            "top": null,
            "visibility": null,
            "width": null
          }
        },
        "8c1da1f6dc4f4ac1815f870a204412b4": {
          "model_module": "@jupyter-widgets/controls",
          "model_name": "DescriptionStyleModel",
          "model_module_version": "1.5.0",
          "state": {
            "_model_module": "@jupyter-widgets/controls",
            "_model_module_version": "1.5.0",
            "_model_name": "DescriptionStyleModel",
            "_view_count": null,
            "_view_module": "@jupyter-widgets/base",
            "_view_module_version": "1.2.0",
            "_view_name": "StyleView",
            "description_width": ""
          }
        },
        "d8ed27f292ed45aea0225364f472004b": {
          "model_module": "@jupyter-widgets/controls",
          "model_name": "HBoxModel",
          "model_module_version": "1.5.0",
          "state": {
            "_dom_classes": [],
            "_model_module": "@jupyter-widgets/controls",
            "_model_module_version": "1.5.0",
            "_model_name": "HBoxModel",
            "_view_count": null,
            "_view_module": "@jupyter-widgets/controls",
            "_view_module_version": "1.5.0",
            "_view_name": "HBoxView",
            "box_style": "",
            "children": [
              "IPY_MODEL_f7113675566148e1adfda6ee0ad13833",
              "IPY_MODEL_59a7c4a118a5434ea0ce31fdfc97e7bb",
              "IPY_MODEL_85588735eb624f59b395aa4b83be59f0"
            ],
            "layout": "IPY_MODEL_a235c855ed574c2f8f02dfc40bb8a8f7"
          }
        },
        "f7113675566148e1adfda6ee0ad13833": {
          "model_module": "@jupyter-widgets/controls",
          "model_name": "HTMLModel",
          "model_module_version": "1.5.0",
          "state": {
            "_dom_classes": [],
            "_model_module": "@jupyter-widgets/controls",
            "_model_module_version": "1.5.0",
            "_model_name": "HTMLModel",
            "_view_count": null,
            "_view_module": "@jupyter-widgets/controls",
            "_view_module_version": "1.5.0",
            "_view_name": "HTMLView",
            "description": "",
            "description_tooltip": null,
            "layout": "IPY_MODEL_832ac5278d6c412d8526a0b3139e94a1",
            "placeholder": "​",
            "style": "IPY_MODEL_e3386880890e4b29a00daba0bdb7fe59",
            "value": "Map: 100%"
          }
        },
        "59a7c4a118a5434ea0ce31fdfc97e7bb": {
          "model_module": "@jupyter-widgets/controls",
          "model_name": "FloatProgressModel",
          "model_module_version": "1.5.0",
          "state": {
            "_dom_classes": [],
            "_model_module": "@jupyter-widgets/controls",
            "_model_module_version": "1.5.0",
            "_model_name": "FloatProgressModel",
            "_view_count": null,
            "_view_module": "@jupyter-widgets/controls",
            "_view_module_version": "1.5.0",
            "_view_name": "ProgressView",
            "bar_style": "success",
            "description": "",
            "description_tooltip": null,
            "layout": "IPY_MODEL_f09bd5a8e3c14efaa2ee3d855be02966",
            "max": 197180,
            "min": 0,
            "orientation": "horizontal",
            "style": "IPY_MODEL_684571fa9c734adea02d647153b3755a",
            "value": 197180
          }
        },
        "85588735eb624f59b395aa4b83be59f0": {
          "model_module": "@jupyter-widgets/controls",
          "model_name": "HTMLModel",
          "model_module_version": "1.5.0",
          "state": {
            "_dom_classes": [],
            "_model_module": "@jupyter-widgets/controls",
            "_model_module_version": "1.5.0",
            "_model_name": "HTMLModel",
            "_view_count": null,
            "_view_module": "@jupyter-widgets/controls",
            "_view_module_version": "1.5.0",
            "_view_name": "HTMLView",
            "description": "",
            "description_tooltip": null,
            "layout": "IPY_MODEL_68b662d6e552461da09c41ed50fe69c0",
            "placeholder": "​",
            "style": "IPY_MODEL_8ebcf6c07ec54f71b0419baca15d9b72",
            "value": " 197180/197180 [00:02&lt;00:00, 75481.89 examples/s]"
          }
        },
        "a235c855ed574c2f8f02dfc40bb8a8f7": {
          "model_module": "@jupyter-widgets/base",
          "model_name": "LayoutModel",
          "model_module_version": "1.2.0",
          "state": {
            "_model_module": "@jupyter-widgets/base",
            "_model_module_version": "1.2.0",
            "_model_name": "LayoutModel",
            "_view_count": null,
            "_view_module": "@jupyter-widgets/base",
            "_view_module_version": "1.2.0",
            "_view_name": "LayoutView",
            "align_content": null,
            "align_items": null,
            "align_self": null,
            "border": null,
            "bottom": null,
            "display": null,
            "flex": null,
            "flex_flow": null,
            "grid_area": null,
            "grid_auto_columns": null,
            "grid_auto_flow": null,
            "grid_auto_rows": null,
            "grid_column": null,
            "grid_gap": null,
            "grid_row": null,
            "grid_template_areas": null,
            "grid_template_columns": null,
            "grid_template_rows": null,
            "height": null,
            "justify_content": null,
            "justify_items": null,
            "left": null,
            "margin": null,
            "max_height": null,
            "max_width": null,
            "min_height": null,
            "min_width": null,
            "object_fit": null,
            "object_position": null,
            "order": null,
            "overflow": null,
            "overflow_x": null,
            "overflow_y": null,
            "padding": null,
            "right": null,
            "top": null,
            "visibility": null,
            "width": null
          }
        },
        "832ac5278d6c412d8526a0b3139e94a1": {
          "model_module": "@jupyter-widgets/base",
          "model_name": "LayoutModel",
          "model_module_version": "1.2.0",
          "state": {
            "_model_module": "@jupyter-widgets/base",
            "_model_module_version": "1.2.0",
            "_model_name": "LayoutModel",
            "_view_count": null,
            "_view_module": "@jupyter-widgets/base",
            "_view_module_version": "1.2.0",
            "_view_name": "LayoutView",
            "align_content": null,
            "align_items": null,
            "align_self": null,
            "border": null,
            "bottom": null,
            "display": null,
            "flex": null,
            "flex_flow": null,
            "grid_area": null,
            "grid_auto_columns": null,
            "grid_auto_flow": null,
            "grid_auto_rows": null,
            "grid_column": null,
            "grid_gap": null,
            "grid_row": null,
            "grid_template_areas": null,
            "grid_template_columns": null,
            "grid_template_rows": null,
            "height": null,
            "justify_content": null,
            "justify_items": null,
            "left": null,
            "margin": null,
            "max_height": null,
            "max_width": null,
            "min_height": null,
            "min_width": null,
            "object_fit": null,
            "object_position": null,
            "order": null,
            "overflow": null,
            "overflow_x": null,
            "overflow_y": null,
            "padding": null,
            "right": null,
            "top": null,
            "visibility": null,
            "width": null
          }
        },
        "e3386880890e4b29a00daba0bdb7fe59": {
          "model_module": "@jupyter-widgets/controls",
          "model_name": "DescriptionStyleModel",
          "model_module_version": "1.5.0",
          "state": {
            "_model_module": "@jupyter-widgets/controls",
            "_model_module_version": "1.5.0",
            "_model_name": "DescriptionStyleModel",
            "_view_count": null,
            "_view_module": "@jupyter-widgets/base",
            "_view_module_version": "1.2.0",
            "_view_name": "StyleView",
            "description_width": ""
          }
        },
        "f09bd5a8e3c14efaa2ee3d855be02966": {
          "model_module": "@jupyter-widgets/base",
          "model_name": "LayoutModel",
          "model_module_version": "1.2.0",
          "state": {
            "_model_module": "@jupyter-widgets/base",
            "_model_module_version": "1.2.0",
            "_model_name": "LayoutModel",
            "_view_count": null,
            "_view_module": "@jupyter-widgets/base",
            "_view_module_version": "1.2.0",
            "_view_name": "LayoutView",
            "align_content": null,
            "align_items": null,
            "align_self": null,
            "border": null,
            "bottom": null,
            "display": null,
            "flex": null,
            "flex_flow": null,
            "grid_area": null,
            "grid_auto_columns": null,
            "grid_auto_flow": null,
            "grid_auto_rows": null,
            "grid_column": null,
            "grid_gap": null,
            "grid_row": null,
            "grid_template_areas": null,
            "grid_template_columns": null,
            "grid_template_rows": null,
            "height": null,
            "justify_content": null,
            "justify_items": null,
            "left": null,
            "margin": null,
            "max_height": null,
            "max_width": null,
            "min_height": null,
            "min_width": null,
            "object_fit": null,
            "object_position": null,
            "order": null,
            "overflow": null,
            "overflow_x": null,
            "overflow_y": null,
            "padding": null,
            "right": null,
            "top": null,
            "visibility": null,
            "width": null
          }
        },
        "684571fa9c734adea02d647153b3755a": {
          "model_module": "@jupyter-widgets/controls",
          "model_name": "ProgressStyleModel",
          "model_module_version": "1.5.0",
          "state": {
            "_model_module": "@jupyter-widgets/controls",
            "_model_module_version": "1.5.0",
            "_model_name": "ProgressStyleModel",
            "_view_count": null,
            "_view_module": "@jupyter-widgets/base",
            "_view_module_version": "1.2.0",
            "_view_name": "StyleView",
            "bar_color": null,
            "description_width": ""
          }
        },
        "68b662d6e552461da09c41ed50fe69c0": {
          "model_module": "@jupyter-widgets/base",
          "model_name": "LayoutModel",
          "model_module_version": "1.2.0",
          "state": {
            "_model_module": "@jupyter-widgets/base",
            "_model_module_version": "1.2.0",
            "_model_name": "LayoutModel",
            "_view_count": null,
            "_view_module": "@jupyter-widgets/base",
            "_view_module_version": "1.2.0",
            "_view_name": "LayoutView",
            "align_content": null,
            "align_items": null,
            "align_self": null,
            "border": null,
            "bottom": null,
            "display": null,
            "flex": null,
            "flex_flow": null,
            "grid_area": null,
            "grid_auto_columns": null,
            "grid_auto_flow": null,
            "grid_auto_rows": null,
            "grid_column": null,
            "grid_gap": null,
            "grid_row": null,
            "grid_template_areas": null,
            "grid_template_columns": null,
            "grid_template_rows": null,
            "height": null,
            "justify_content": null,
            "justify_items": null,
            "left": null,
            "margin": null,
            "max_height": null,
            "max_width": null,
            "min_height": null,
            "min_width": null,
            "object_fit": null,
            "object_position": null,
            "order": null,
            "overflow": null,
            "overflow_x": null,
            "overflow_y": null,
            "padding": null,
            "right": null,
            "top": null,
            "visibility": null,
            "width": null
          }
        },
        "8ebcf6c07ec54f71b0419baca15d9b72": {
          "model_module": "@jupyter-widgets/controls",
          "model_name": "DescriptionStyleModel",
          "model_module_version": "1.5.0",
          "state": {
            "_model_module": "@jupyter-widgets/controls",
            "_model_module_version": "1.5.0",
            "_model_name": "DescriptionStyleModel",
            "_view_count": null,
            "_view_module": "@jupyter-widgets/base",
            "_view_module_version": "1.2.0",
            "_view_name": "StyleView",
            "description_width": ""
          }
        },
        "d0edc4dd3ff74558825d6b0f9d33bfb3": {
          "model_module": "@jupyter-widgets/controls",
          "model_name": "HBoxModel",
          "model_module_version": "1.5.0",
          "state": {
            "_dom_classes": [],
            "_model_module": "@jupyter-widgets/controls",
            "_model_module_version": "1.5.0",
            "_model_name": "HBoxModel",
            "_view_count": null,
            "_view_module": "@jupyter-widgets/controls",
            "_view_module_version": "1.5.0",
            "_view_name": "HBoxView",
            "box_style": "",
            "children": [
              "IPY_MODEL_2f65037db84b479c981c6e4fb4c8505a",
              "IPY_MODEL_ecad01d0bbe14d14ab969a9b957de5ed",
              "IPY_MODEL_14d01b53350045b8a7fa3bf30eb0faca"
            ],
            "layout": "IPY_MODEL_17b17e00d9524c19a06499f123b131f9"
          }
        },
        "2f65037db84b479c981c6e4fb4c8505a": {
          "model_module": "@jupyter-widgets/controls",
          "model_name": "HTMLModel",
          "model_module_version": "1.5.0",
          "state": {
            "_dom_classes": [],
            "_model_module": "@jupyter-widgets/controls",
            "_model_module_version": "1.5.0",
            "_model_name": "HTMLModel",
            "_view_count": null,
            "_view_module": "@jupyter-widgets/controls",
            "_view_module_version": "1.5.0",
            "_view_name": "HTMLView",
            "description": "",
            "description_tooltip": null,
            "layout": "IPY_MODEL_4f20b59f4322400aa95cb14aba28c4e7",
            "placeholder": "​",
            "style": "IPY_MODEL_37202e81dbc04d4db41700fc23a37283",
            "value": "Generating train split: "
          }
        },
        "ecad01d0bbe14d14ab969a9b957de5ed": {
          "model_module": "@jupyter-widgets/controls",
          "model_name": "FloatProgressModel",
          "model_module_version": "1.5.0",
          "state": {
            "_dom_classes": [],
            "_model_module": "@jupyter-widgets/controls",
            "_model_module_version": "1.5.0",
            "_model_name": "FloatProgressModel",
            "_view_count": null,
            "_view_module": "@jupyter-widgets/controls",
            "_view_module_version": "1.5.0",
            "_view_name": "ProgressView",
            "bar_style": "success",
            "description": "",
            "description_tooltip": null,
            "layout": "IPY_MODEL_d227723b49de4dfc9372ad31f8be3599",
            "max": 1,
            "min": 0,
            "orientation": "horizontal",
            "style": "IPY_MODEL_7036c86d594f406c9d258bfc9b80d082",
            "value": 1
          }
        },
        "14d01b53350045b8a7fa3bf30eb0faca": {
          "model_module": "@jupyter-widgets/controls",
          "model_name": "HTMLModel",
          "model_module_version": "1.5.0",
          "state": {
            "_dom_classes": [],
            "_model_module": "@jupyter-widgets/controls",
            "_model_module_version": "1.5.0",
            "_model_name": "HTMLModel",
            "_view_count": null,
            "_view_module": "@jupyter-widgets/controls",
            "_view_module_version": "1.5.0",
            "_view_name": "HTMLView",
            "description": "",
            "description_tooltip": null,
            "layout": "IPY_MODEL_8f9271844c5a4402a4d838c40abb03d8",
            "placeholder": "​",
            "style": "IPY_MODEL_0162b399512547948760b56dfa9a0525",
            "value": " 6911/0 [01:37&lt;00:00, 187.15 examples/s]"
          }
        },
        "17b17e00d9524c19a06499f123b131f9": {
          "model_module": "@jupyter-widgets/base",
          "model_name": "LayoutModel",
          "model_module_version": "1.2.0",
          "state": {
            "_model_module": "@jupyter-widgets/base",
            "_model_module_version": "1.2.0",
            "_model_name": "LayoutModel",
            "_view_count": null,
            "_view_module": "@jupyter-widgets/base",
            "_view_module_version": "1.2.0",
            "_view_name": "LayoutView",
            "align_content": null,
            "align_items": null,
            "align_self": null,
            "border": null,
            "bottom": null,
            "display": null,
            "flex": null,
            "flex_flow": null,
            "grid_area": null,
            "grid_auto_columns": null,
            "grid_auto_flow": null,
            "grid_auto_rows": null,
            "grid_column": null,
            "grid_gap": null,
            "grid_row": null,
            "grid_template_areas": null,
            "grid_template_columns": null,
            "grid_template_rows": null,
            "height": null,
            "justify_content": null,
            "justify_items": null,
            "left": null,
            "margin": null,
            "max_height": null,
            "max_width": null,
            "min_height": null,
            "min_width": null,
            "object_fit": null,
            "object_position": null,
            "order": null,
            "overflow": null,
            "overflow_x": null,
            "overflow_y": null,
            "padding": null,
            "right": null,
            "top": null,
            "visibility": null,
            "width": null
          }
        },
        "4f20b59f4322400aa95cb14aba28c4e7": {
          "model_module": "@jupyter-widgets/base",
          "model_name": "LayoutModel",
          "model_module_version": "1.2.0",
          "state": {
            "_model_module": "@jupyter-widgets/base",
            "_model_module_version": "1.2.0",
            "_model_name": "LayoutModel",
            "_view_count": null,
            "_view_module": "@jupyter-widgets/base",
            "_view_module_version": "1.2.0",
            "_view_name": "LayoutView",
            "align_content": null,
            "align_items": null,
            "align_self": null,
            "border": null,
            "bottom": null,
            "display": null,
            "flex": null,
            "flex_flow": null,
            "grid_area": null,
            "grid_auto_columns": null,
            "grid_auto_flow": null,
            "grid_auto_rows": null,
            "grid_column": null,
            "grid_gap": null,
            "grid_row": null,
            "grid_template_areas": null,
            "grid_template_columns": null,
            "grid_template_rows": null,
            "height": null,
            "justify_content": null,
            "justify_items": null,
            "left": null,
            "margin": null,
            "max_height": null,
            "max_width": null,
            "min_height": null,
            "min_width": null,
            "object_fit": null,
            "object_position": null,
            "order": null,
            "overflow": null,
            "overflow_x": null,
            "overflow_y": null,
            "padding": null,
            "right": null,
            "top": null,
            "visibility": null,
            "width": null
          }
        },
        "37202e81dbc04d4db41700fc23a37283": {
          "model_module": "@jupyter-widgets/controls",
          "model_name": "DescriptionStyleModel",
          "model_module_version": "1.5.0",
          "state": {
            "_model_module": "@jupyter-widgets/controls",
            "_model_module_version": "1.5.0",
            "_model_name": "DescriptionStyleModel",
            "_view_count": null,
            "_view_module": "@jupyter-widgets/base",
            "_view_module_version": "1.2.0",
            "_view_name": "StyleView",
            "description_width": ""
          }
        },
        "d227723b49de4dfc9372ad31f8be3599": {
          "model_module": "@jupyter-widgets/base",
          "model_name": "LayoutModel",
          "model_module_version": "1.2.0",
          "state": {
            "_model_module": "@jupyter-widgets/base",
            "_model_module_version": "1.2.0",
            "_model_name": "LayoutModel",
            "_view_count": null,
            "_view_module": "@jupyter-widgets/base",
            "_view_module_version": "1.2.0",
            "_view_name": "LayoutView",
            "align_content": null,
            "align_items": null,
            "align_self": null,
            "border": null,
            "bottom": null,
            "display": null,
            "flex": null,
            "flex_flow": null,
            "grid_area": null,
            "grid_auto_columns": null,
            "grid_auto_flow": null,
            "grid_auto_rows": null,
            "grid_column": null,
            "grid_gap": null,
            "grid_row": null,
            "grid_template_areas": null,
            "grid_template_columns": null,
            "grid_template_rows": null,
            "height": null,
            "justify_content": null,
            "justify_items": null,
            "left": null,
            "margin": null,
            "max_height": null,
            "max_width": null,
            "min_height": null,
            "min_width": null,
            "object_fit": null,
            "object_position": null,
            "order": null,
            "overflow": null,
            "overflow_x": null,
            "overflow_y": null,
            "padding": null,
            "right": null,
            "top": null,
            "visibility": null,
            "width": "20px"
          }
        },
        "7036c86d594f406c9d258bfc9b80d082": {
          "model_module": "@jupyter-widgets/controls",
          "model_name": "ProgressStyleModel",
          "model_module_version": "1.5.0",
          "state": {
            "_model_module": "@jupyter-widgets/controls",
            "_model_module_version": "1.5.0",
            "_model_name": "ProgressStyleModel",
            "_view_count": null,
            "_view_module": "@jupyter-widgets/base",
            "_view_module_version": "1.2.0",
            "_view_name": "StyleView",
            "bar_color": null,
            "description_width": ""
          }
        },
        "8f9271844c5a4402a4d838c40abb03d8": {
          "model_module": "@jupyter-widgets/base",
          "model_name": "LayoutModel",
          "model_module_version": "1.2.0",
          "state": {
            "_model_module": "@jupyter-widgets/base",
            "_model_module_version": "1.2.0",
            "_model_name": "LayoutModel",
            "_view_count": null,
            "_view_module": "@jupyter-widgets/base",
            "_view_module_version": "1.2.0",
            "_view_name": "LayoutView",
            "align_content": null,
            "align_items": null,
            "align_self": null,
            "border": null,
            "bottom": null,
            "display": null,
            "flex": null,
            "flex_flow": null,
            "grid_area": null,
            "grid_auto_columns": null,
            "grid_auto_flow": null,
            "grid_auto_rows": null,
            "grid_column": null,
            "grid_gap": null,
            "grid_row": null,
            "grid_template_areas": null,
            "grid_template_columns": null,
            "grid_template_rows": null,
            "height": null,
            "justify_content": null,
            "justify_items": null,
            "left": null,
            "margin": null,
            "max_height": null,
            "max_width": null,
            "min_height": null,
            "min_width": null,
            "object_fit": null,
            "object_position": null,
            "order": null,
            "overflow": null,
            "overflow_x": null,
            "overflow_y": null,
            "padding": null,
            "right": null,
            "top": null,
            "visibility": null,
            "width": null
          }
        },
        "0162b399512547948760b56dfa9a0525": {
          "model_module": "@jupyter-widgets/controls",
          "model_name": "DescriptionStyleModel",
          "model_module_version": "1.5.0",
          "state": {
            "_model_module": "@jupyter-widgets/controls",
            "_model_module_version": "1.5.0",
            "_model_name": "DescriptionStyleModel",
            "_view_count": null,
            "_view_module": "@jupyter-widgets/base",
            "_view_module_version": "1.2.0",
            "_view_name": "StyleView",
            "description_width": ""
          }
        }
      }
    }
  },
  "cells": [
    {
      "cell_type": "markdown",
      "source": [
        "# **Fine-Tuning LLaMA-3 for Psychology Question Answering Using LoRA and Unsloth**\n",
        "\n",
        "This step-by-step guide walks you through the fine-tuning process of the LLaMA-3 model for psychology question answering using LoRA (Low-Rank Adaptation) and Unsloth. By following this notebook, you'll learn how to efficiently adapt a large language model for a specialized task in psychology. Whether you're a machine learning enthusiast or a psychology researcher, this guide provides a practical approach to creating a robust question-answering system.\n"
      ],
      "metadata": {
        "id": "QxkHbVqAFMuf"
      }
    },
    {
      "cell_type": "markdown",
      "source": [
        "**Step 1: Install Necessary Libraries**\n",
        "\n"
      ],
      "metadata": {
        "id": "TzKPwP1XGfTo"
      }
    },
    {
      "cell_type": "markdown",
      "source": [
        "The following cell installs essential libraries for fine-tuning.\n",
        "\n",
        "* **Unsloth:** A framework for efficient model management and fine-tuning.\n",
        "\n",
        "* **Xformers:** Optimizes attention mechanisms for handling large sequences.\n",
        "\n",
        "* **TRL (Transformers Reinforcement Learning):** Provides tools for reinforcement learning-based model tuning.\n",
        "\n",
        "* **PEFT (Parameter Efficient Fine-Tuning):** Reduces memory requirements during fine-tuning by updating only a subset of model parameters.\n",
        "\n",
        "* **BitsAndBytes:** Enables efficient quantization techniques, such as 4-bit precision.\n",
        "\n",
        "\n",
        "\n",
        "\n",
        "Using these libraries ensures our environment is equipped for both memory-efficient and effective LLM fine-tuning."
      ],
      "metadata": {
        "id": "ulUzgX-5Gx8T"
      }
    },
    {
      "cell_type": "code",
      "execution_count": null,
      "metadata": {
        "id": "PEUUhWpqymvO"
      },
      "outputs": [],
      "source": [
        "%%capture\n",
        "!pip install \"unsloth[colab-new] @ git+https://github.com/unslothai/unsloth.git\"\n",
        "!pip install --no-deps xformers trl peft accelerate bitsandbytes"
      ]
    },
    {
      "cell_type": "markdown",
      "source": [
        "**Step 2: Load Pretrained Model and Tokenizer**\n"
      ],
      "metadata": {
        "id": "XnM8WgsUHu7r"
      }
    },
    {
      "cell_type": "markdown",
      "source": [
        "**What is Unsloth and What Is It Used For?**\n",
        "\n",
        "Unsloth is a streamlined framework designed to simplify and optimize the process of working with large language models (LLMs). Think of it as your ultimate toolkit for fine-tuning and deploying LLMs with efficiency and ease."
      ],
      "metadata": {
        "id": "cAOvtEbPH4Vu"
      }
    },
    {
      "cell_type": "code",
      "source": [
        "from unsloth import FastLanguageModel\n",
        "import torch\n",
        "max_seq_length = 2048\n",
        "dtype = None\n",
        "load_in_4bit = True"
      ],
      "metadata": {
        "id": "763_j2-nI2Eu"
      },
      "execution_count": null,
      "outputs": []
    },
    {
      "cell_type": "markdown",
      "source": [
        "**Why Did We Load the Model from Unsloth?**\n",
        "\n",
        "We loaded the model from Unsloth because it provides a pre-configured, optimized environment tailored for efficient LLM fine-tuning and deployment. Here’s why this choice makes sense:\n",
        "\n",
        "* **Memory Efficiency:** Unsloth’s models are pre-quantized, often using techniques like 4-bit precision, which significantly reduces memory requirements without compromising performance.\n",
        "* **Long-Context Support:** The framework incorporates advanced features like RoPE (Rotary Position Embedding) scaling, making it ideal for tasks requiring long input sequences.\n",
        "* **Fine-Tuning Ready:** Models from Unsloth are designed with parameter-efficient techniques in mind, ensuring smooth integration with LoRA and QLoRA.\n",
        "* **Ease of Use:** By handling complex setups internally, Unsloth eliminates the need for extensive manual configurations, saving time and reducing errors.\n",
        "\n",
        "The model loaded here is \"unsloth/llama-3-8b-bnb-4bit,\" a lightweight yet powerful variant for tasks requiring large language models."
      ],
      "metadata": {
        "id": "OaLS3a0wI-40"
      }
    },
    {
      "cell_type": "code",
      "source": [
        "model, tokenizer = FastLanguageModel.from_pretrained(\n",
        "    model_name = \"unsloth/llama-3-8b-bnb-4bit\",\n",
        "    max_seq_length = max_seq_length,\n",
        "    dtype = dtype,\n",
        "    load_in_4bit = load_in_4bit,\n",
        ")"
      ],
      "metadata": {
        "colab": {
          "base_uri": "https://localhost:8080/",
          "height": 316,
          "referenced_widgets": [
            "957b2d1248c24c6bbcef00f3230bb5bd",
            "5883945fa006438a992dde002eab7801",
            "beeeaa2c8918448886a08890ad3c601d",
            "1f7c7ea5fa324f5991ef431766e35b3b",
            "1c9c1ad27c6049b29ac4901c0226ab59",
            "9799f460d15244028669349b540ad02e",
            "c62a41c8e68d4c8b9b3592b29cd56197",
            "5cbe182f4a104aa4981bd6aeab4fa72b",
            "4aafe9dfea4e4ababa1078446f848757",
            "52ab98bda44b41a39c51dc25c9d08097",
            "eb1a69ed2b3e40e896f6793ea8b6d324",
            "0c66862adf8741efa921ef84c2782893",
            "3d5e9cbe16934bf590748caacf7b04f7",
            "e8f69c18250e41c7884e4aada0c91d29",
            "7d0a9413e8ff4a048e51b1e9f4a13238",
            "4d4da6815e5e4cf5bff40bb19e4c0227",
            "e123838c49534685849855816a6b9e2f",
            "995b461dff8043128d96e5fece75af16",
            "c4dff6092865487e9258d6dea7a603e6",
            "0bb9268f6ecd4e45a7f339d386041bab",
            "2fb82d37023e48beb7a1d1ca6e0008dd",
            "3b2aee15e3834a31a511c5e1d23da62f",
            "8c1b5fb36b7f4fa485d4ba0b1737911e",
            "8090e7d15bd94e6d82406e9c9f254903",
            "ca65988aa308480cb8827fe99562edee",
            "47ab5c62fc32458ead4cac98560ef4d8",
            "6e378c10e42a47bea7ac1c228b033500",
            "93111c94c7d74139838b99b774bb26cf",
            "bfe8cf012dca413c8ab0e1943d190219",
            "b731661fb49b4ef9b521a0a23e81292d",
            "a302175af7284c36a597387a79d0f646",
            "f8fe5aaf68e6417d9d944c672e07011d",
            "cbc923107776455d97e4cbfa02244c4c",
            "76cb8230fc9c4c9f8c812437bcf8efba",
            "8c15bf1e2bf7463ba3905200ac7395b2",
            "9fc167aadc2b491bbe5874870e7aff8d",
            "277e5a948a914b64ba777726696969b4",
            "22048c16f2f44acd979489ad396b6ce5",
            "4b7fa8d89c804d98bfc6c04da890b529",
            "fce006a360294264abe5a29d77c507ac",
            "85af2e4429404a2d8a215ba608a95bde",
            "3db6ff25275c49519230777478b84c58",
            "f90f858b03324ca89933cd4e60cf8719",
            "bdddb6f7baa241acb6fc72edef893315",
            "3fdc56c9a2d14e18a4c61cc01d2f38c7",
            "bd2051be0ce44d779c63a57edad253af",
            "98848740ebd4421989b58807909bc84c",
            "f220b3aac1a8449985112c45a7cca97c",
            "41b1edaf73e2450b99ca7b807475bc66",
            "1c6a1efa31f247899c0b26075174590f",
            "c309e0ec89f647e394349f1dc16bb860",
            "df5d4ffe12934e80b14fb349573e4653",
            "80b05453dd33440dbee0bc0bd29af9c4",
            "23f53198c0e941129297f0ae24020adf",
            "c1d215d6ff1d40359a16935d8cfb0dad"
          ]
        },
        "id": "IozxqO-wytfn",
        "outputId": "615791bd-92e2-47eb-cab6-5c263b7d30c7"
      },
      "execution_count": null,
      "outputs": [
        {
          "output_type": "stream",
          "name": "stdout",
          "text": [
            "🦥 Unsloth: Will patch your computer to enable 2x faster free finetuning.\n",
            "🦥 Unsloth Zoo will now patch everything to make training faster!\n",
            "==((====))==  Unsloth 2024.12.2: Fast Llama patching. Transformers:4.46.2.\n",
            "   \\\\   /|    GPU: Tesla T4. Max memory: 14.748 GB. Platform: Linux.\n",
            "O^O/ \\_/ \\    Torch: 2.5.1+cu121. CUDA: 7.5. CUDA Toolkit: 12.1. Triton: 3.1.0\n",
            "\\        /    Bfloat16 = FALSE. FA [Xformers = 0.0.28.post3. FA2 = False]\n",
            " \"-____-\"     Free Apache license: http://github.com/unslothai/unsloth\n",
            "Unsloth: Fast downloading is enabled - ignore downloading bars which are red colored!\n"
          ]
        },
        {
          "output_type": "display_data",
          "data": {
            "text/plain": [
              "model.safetensors:   0%|          | 0.00/5.70G [00:00<?, ?B/s]"
            ],
            "application/vnd.jupyter.widget-view+json": {
              "version_major": 2,
              "version_minor": 0,
              "model_id": "957b2d1248c24c6bbcef00f3230bb5bd"
            }
          },
          "metadata": {}
        },
        {
          "output_type": "display_data",
          "data": {
            "text/plain": [
              "generation_config.json:   0%|          | 0.00/198 [00:00<?, ?B/s]"
            ],
            "application/vnd.jupyter.widget-view+json": {
              "version_major": 2,
              "version_minor": 0,
              "model_id": "0c66862adf8741efa921ef84c2782893"
            }
          },
          "metadata": {}
        },
        {
          "output_type": "display_data",
          "data": {
            "text/plain": [
              "tokenizer_config.json:   0%|          | 0.00/50.6k [00:00<?, ?B/s]"
            ],
            "application/vnd.jupyter.widget-view+json": {
              "version_major": 2,
              "version_minor": 0,
              "model_id": "8c1b5fb36b7f4fa485d4ba0b1737911e"
            }
          },
          "metadata": {}
        },
        {
          "output_type": "display_data",
          "data": {
            "text/plain": [
              "tokenizer.json:   0%|          | 0.00/9.09M [00:00<?, ?B/s]"
            ],
            "application/vnd.jupyter.widget-view+json": {
              "version_major": 2,
              "version_minor": 0,
              "model_id": "76cb8230fc9c4c9f8c812437bcf8efba"
            }
          },
          "metadata": {}
        },
        {
          "output_type": "display_data",
          "data": {
            "text/plain": [
              "special_tokens_map.json:   0%|          | 0.00/350 [00:00<?, ?B/s]"
            ],
            "application/vnd.jupyter.widget-view+json": {
              "version_major": 2,
              "version_minor": 0,
              "model_id": "3fdc56c9a2d14e18a4c61cc01d2f38c7"
            }
          },
          "metadata": {}
        }
      ]
    },
    {
      "cell_type": "markdown",
      "source": [
        "**Step 3: Apply Parameter-Efficient Fine-Tuning (LoRA)**\n",
        "\n"
      ],
      "metadata": {
        "id": "1pXIrNtdJ8Qs"
      }
    },
    {
      "cell_type": "markdown",
      "source": [
        "Parameter-Efficient Fine-Tuning (PEFT) is a more efficient form of instruction-based fine-tuning. Full LLM fine-tuning is resource-intensive, demanding considerable computational power, memory, and storage. PEFT addresses this by updating only a select set of parameters while keeping the rest frozen. This reduces the memory load during training and prevents the model from forgetting previously learned information. PEFT is particularly useful when fine-tuning for multiple tasks. Among the common techniques to achieve PEFT, LoRA and QLoRA are widely recognized for their effectiveness."
      ],
      "metadata": {
        "id": "DuUJyuCXLOlu"
      }
    },
    {
      "cell_type": "markdown",
      "source": [
        "**What is LoRA?**\n",
        "\n",
        "LoRA (Low-Rank Adaptation) is a method that fine-tunes two smaller matrices instead of the entire weight matrix of a pre-trained LLM. These smaller matrices form a LoRA adapter, which is then applied to the original LLM. The fine-tuned adapter is much smaller in size compared to the original model, often only a small percentage of its size. During inference, this LoRA adapter is combined with the original LLM.\n",
        "\n",
        "In our notebook, LoRA adapters are applied:\n",
        "\n",
        "* **Target Modules:** Defines which parts of the model are fine-tuned, like query, key, and value projections.\n",
        "* **LoRA Alpha & Dropout:** Control the adaptation strength and regularization.\n",
        "* **Gradient Checkpointing:** Reduces memory usage during training by recomputing intermediate states.\n",
        "* **Random State:** Ensures reproducibility.\n",
        "\n",
        "This step ensure that wwe are only modifying specific parameters (around 10% of all parameters)."
      ],
      "metadata": {
        "id": "cU__KCsNLhOG"
      }
    },
    {
      "cell_type": "code",
      "source": [
        "model = FastLanguageModel.get_peft_model(\n",
        "    model,\n",
        "    r = 16,\n",
        "    target_modules = [\"q_proj\", \"k_proj\", \"v_proj\", \"o_proj\",\n",
        "                      \"gate_proj\", \"up_proj\", \"down_proj\",],\n",
        "    lora_alpha = 16,\n",
        "    lora_dropout = 0,\n",
        "    bias = \"none\",    *\n",
        "    use_gradient_checkpointing = \"unsloth\",\n",
        "    random_state = 3407,\n",
        "    use_rslora = False,\n",
        "    loftq_config = None,\n",
        ")"
      ],
      "metadata": {
        "colab": {
          "base_uri": "https://localhost:8080/"
        },
        "id": "z-6etmy7yuNx",
        "outputId": "2c71fa31-a442-489c-e1c7-a5dc4ef008eb"
      },
      "execution_count": null,
      "outputs": [
        {
          "output_type": "stream",
          "name": "stderr",
          "text": [
            "Unsloth 2024.12.2 patched 32 layers with 32 QKV layers, 32 O layers and 32 MLP layers.\n"
          ]
        }
      ]
    },
    {
      "cell_type": "code",
      "source": [
        "model"
      ],
      "metadata": {
        "colab": {
          "base_uri": "https://localhost:8080/"
        },
        "id": "5hYxe53vRUR_",
        "outputId": "f01bcbe2-330f-49f2-86f9-cf4684e41871"
      },
      "execution_count": null,
      "outputs": [
        {
          "output_type": "execute_result",
          "data": {
            "text/plain": [
              "PeftModelForCausalLM(\n",
              "  (base_model): LoraModel(\n",
              "    (model): LlamaForCausalLM(\n",
              "      (model): LlamaModel(\n",
              "        (embed_tokens): Embedding(128256, 4096, padding_idx=128255)\n",
              "        (layers): ModuleList(\n",
              "          (0-31): 32 x LlamaDecoderLayer(\n",
              "            (self_attn): LlamaAttention(\n",
              "              (q_proj): lora.Linear4bit(\n",
              "                (base_layer): Linear4bit(in_features=4096, out_features=4096, bias=False)\n",
              "                (lora_dropout): ModuleDict(\n",
              "                  (default): Identity()\n",
              "                )\n",
              "                (lora_A): ModuleDict(\n",
              "                  (default): Linear(in_features=4096, out_features=16, bias=False)\n",
              "                )\n",
              "                (lora_B): ModuleDict(\n",
              "                  (default): Linear(in_features=16, out_features=4096, bias=False)\n",
              "                )\n",
              "                (lora_embedding_A): ParameterDict()\n",
              "                (lora_embedding_B): ParameterDict()\n",
              "                (lora_magnitude_vector): ModuleDict()\n",
              "              )\n",
              "              (k_proj): lora.Linear4bit(\n",
              "                (base_layer): Linear4bit(in_features=4096, out_features=1024, bias=False)\n",
              "                (lora_dropout): ModuleDict(\n",
              "                  (default): Identity()\n",
              "                )\n",
              "                (lora_A): ModuleDict(\n",
              "                  (default): Linear(in_features=4096, out_features=16, bias=False)\n",
              "                )\n",
              "                (lora_B): ModuleDict(\n",
              "                  (default): Linear(in_features=16, out_features=1024, bias=False)\n",
              "                )\n",
              "                (lora_embedding_A): ParameterDict()\n",
              "                (lora_embedding_B): ParameterDict()\n",
              "                (lora_magnitude_vector): ModuleDict()\n",
              "              )\n",
              "              (v_proj): lora.Linear4bit(\n",
              "                (base_layer): Linear4bit(in_features=4096, out_features=1024, bias=False)\n",
              "                (lora_dropout): ModuleDict(\n",
              "                  (default): Identity()\n",
              "                )\n",
              "                (lora_A): ModuleDict(\n",
              "                  (default): Linear(in_features=4096, out_features=16, bias=False)\n",
              "                )\n",
              "                (lora_B): ModuleDict(\n",
              "                  (default): Linear(in_features=16, out_features=1024, bias=False)\n",
              "                )\n",
              "                (lora_embedding_A): ParameterDict()\n",
              "                (lora_embedding_B): ParameterDict()\n",
              "                (lora_magnitude_vector): ModuleDict()\n",
              "              )\n",
              "              (o_proj): lora.Linear4bit(\n",
              "                (base_layer): Linear4bit(in_features=4096, out_features=4096, bias=False)\n",
              "                (lora_dropout): ModuleDict(\n",
              "                  (default): Identity()\n",
              "                )\n",
              "                (lora_A): ModuleDict(\n",
              "                  (default): Linear(in_features=4096, out_features=16, bias=False)\n",
              "                )\n",
              "                (lora_B): ModuleDict(\n",
              "                  (default): Linear(in_features=16, out_features=4096, bias=False)\n",
              "                )\n",
              "                (lora_embedding_A): ParameterDict()\n",
              "                (lora_embedding_B): ParameterDict()\n",
              "                (lora_magnitude_vector): ModuleDict()\n",
              "              )\n",
              "              (rotary_emb): LlamaRotaryEmbedding()\n",
              "            )\n",
              "            (mlp): LlamaMLP(\n",
              "              (gate_proj): lora.Linear4bit(\n",
              "                (base_layer): Linear4bit(in_features=4096, out_features=14336, bias=False)\n",
              "                (lora_dropout): ModuleDict(\n",
              "                  (default): Identity()\n",
              "                )\n",
              "                (lora_A): ModuleDict(\n",
              "                  (default): Linear(in_features=4096, out_features=16, bias=False)\n",
              "                )\n",
              "                (lora_B): ModuleDict(\n",
              "                  (default): Linear(in_features=16, out_features=14336, bias=False)\n",
              "                )\n",
              "                (lora_embedding_A): ParameterDict()\n",
              "                (lora_embedding_B): ParameterDict()\n",
              "                (lora_magnitude_vector): ModuleDict()\n",
              "              )\n",
              "              (up_proj): lora.Linear4bit(\n",
              "                (base_layer): Linear4bit(in_features=4096, out_features=14336, bias=False)\n",
              "                (lora_dropout): ModuleDict(\n",
              "                  (default): Identity()\n",
              "                )\n",
              "                (lora_A): ModuleDict(\n",
              "                  (default): Linear(in_features=4096, out_features=16, bias=False)\n",
              "                )\n",
              "                (lora_B): ModuleDict(\n",
              "                  (default): Linear(in_features=16, out_features=14336, bias=False)\n",
              "                )\n",
              "                (lora_embedding_A): ParameterDict()\n",
              "                (lora_embedding_B): ParameterDict()\n",
              "                (lora_magnitude_vector): ModuleDict()\n",
              "              )\n",
              "              (down_proj): lora.Linear4bit(\n",
              "                (base_layer): Linear4bit(in_features=14336, out_features=4096, bias=False)\n",
              "                (lora_dropout): ModuleDict(\n",
              "                  (default): Identity()\n",
              "                )\n",
              "                (lora_A): ModuleDict(\n",
              "                  (default): Linear(in_features=14336, out_features=16, bias=False)\n",
              "                )\n",
              "                (lora_B): ModuleDict(\n",
              "                  (default): Linear(in_features=16, out_features=4096, bias=False)\n",
              "                )\n",
              "                (lora_embedding_A): ParameterDict()\n",
              "                (lora_embedding_B): ParameterDict()\n",
              "                (lora_magnitude_vector): ModuleDict()\n",
              "              )\n",
              "              (act_fn): SiLU()\n",
              "            )\n",
              "            (input_layernorm): LlamaRMSNorm((4096,), eps=1e-05)\n",
              "            (post_attention_layernorm): LlamaRMSNorm((4096,), eps=1e-05)\n",
              "          )\n",
              "        )\n",
              "        (norm): LlamaRMSNorm((4096,), eps=1e-05)\n",
              "        (rotary_emb): LlamaRotaryEmbedding()\n",
              "      )\n",
              "      (lm_head): Linear(in_features=4096, out_features=128256, bias=False)\n",
              "    )\n",
              "  )\n",
              ")"
            ]
          },
          "metadata": {},
          "execution_count": 14
        }
      ]
    },
    {
      "cell_type": "markdown",
      "source": [
        "\n",
        "**Step 4: Load and Preprocess the Dataset for Fine-Tuning**"
      ],
      "metadata": {
        "id": "m7seSm5HNJVB"
      }
    },
    {
      "cell_type": "markdown",
      "source": [
        "**What is an LLM Dataset?**\n",
        "\n",
        "An LLM dataset is a collection of text data used for training and fine-tuning language models. These datasets contain various types of text, such as questions, answers, documents, or dialogues, and are tailored for specific tasks or domains. The quality of the dataset significantly influences the model's performance and accuracy."
      ],
      "metadata": {
        "id": "uB-fGBA8OAQS"
      }
    },
    {
      "cell_type": "markdown",
      "source": [
        "**Types of Datasets for Fine-Tuning LLMs**\n",
        "\n",
        "* **Text Classification Datasets:** These datasets help train models to categorize text into predefined categories like sentiment analysis, topic classification, or spam detection.\n",
        "* **Text Generation Datasets:** These consist of prompts and corresponding responses, useful for training models to generate contextually appropriate and coherent text.\n",
        "* **Summarization Datasets:** These datasets contain long documents paired with summaries, designed to train models to generate or refine summaries.\n",
        "* **Question-Answering Datasets:** These datasets include questions and their correct answers, often derived from FAQs, support dialogues, or knowledge bases.\n",
        "\n",
        "* **Mask Modeling Datasets:** These are used to train models with masked language modeling (MLM), where parts of the text are hidden, and the model predicts the missing words or tokens. This method is crucial in the pre-training phase for models like BERT.\n",
        "\n",
        "* **Instruction Fine-Tuning Datasets:** These datasets consist of instructions paired with expected responses, guiding the model to execute tasks based on user commands.\n",
        "\n",
        "* **Conversational Datasets:** These datasets are designed for training dialogue models, with conversations between users and systems or among multiple users.\n",
        "\n",
        "* **Named Entity Recognition (NER) Datasets:** These datasets teach models to identify and categorize entities like names, locations, dates, etc."
      ],
      "metadata": {
        "id": "5OWIhSQROHK9"
      }
    },
    {
      "cell_type": "markdown",
      "source": [
        "\n",
        "When we want to fine-tune a model for a specific use case, we can create a custom dataset that falls into any of the above categories. By curating a dataset that is tailored to the task at hand, we can optimize the model's performance to meet the specific needs of the application. This custom dataset allows us to focus on the relevant information and ensure that the model is fine-tuned with the most appropriate data for the target use case, leading to more accurate and effective results.\n",
        "\n",
        "\n",
        "\n",
        "\n",
        "\n",
        "\n"
      ],
      "metadata": {
        "id": "lKYyREh-O01b"
      }
    },
    {
      "cell_type": "code",
      "source": [
        "chat_prompt = \"\"\"\n",
        "### Instruction:\n",
        "{}\n",
        "\n",
        "### Input:\n",
        "{}\n",
        "\n",
        "### Response:\n",
        "{}\"\"\""
      ],
      "metadata": {
        "id": "H-n100hiQEPh"
      },
      "execution_count": null,
      "outputs": []
    },
    {
      "cell_type": "markdown",
      "source": [
        "This function ensures the input data aligns with the model’s requirements, reducing inconsistencies during training."
      ],
      "metadata": {
        "id": "NCx1dGdfSAer"
      }
    },
    {
      "cell_type": "code",
      "source": [
        "EOS_TOKEN = tokenizer.eos_token # Must add EOS_TOKEN\n",
        "def formatting_prompts_func(examples):\n",
        "    instruction = \"\"\n",
        "    inputs       = examples[\"question\"]\n",
        "    outputs      = examples[\"answer\"]\n",
        "    texts = []\n",
        "    for input, output in zip(inputs, outputs):\n",
        "        # Must add EOS_TOKEN, otherwise your generation will go on forever!\n",
        "        text = chat_prompt.format(instruction, input, output) + EOS_TOKEN\n",
        "        texts.append(text)\n",
        "    return { \"text\" : texts, }\n",
        "pass"
      ],
      "metadata": {
        "id": "y7jcjUumQJ4i"
      },
      "execution_count": null,
      "outputs": []
    },
    {
      "cell_type": "markdown",
      "source": [
        "**Hugging Face Datasets**\n",
        "\n",
        "Hugging Face offers a vast array of pre-existing datasets that are perfect for fine-tuning models across various domains. These datasets are well-curated, diverse, and readily available, making them an excellent resource for quickly getting started with model fine-tuning.\n",
        "\n",
        "In this notebook, we've chosen a psychology-focused question-answering dataset from Hugging Face. This dataset includes pairs of psychological questions and their corresponding answers, making it ideal for fine-tuning a model on psychology-related queries."
      ],
      "metadata": {
        "id": "uUx48KRJRBnd"
      }
    },
    {
      "cell_type": "markdown",
      "source": [
        "![image.png](data:image/png;base64,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)"
      ],
      "metadata": {
        "id": "9IOEeuE1XuMo"
      }
    },
    {
      "cell_type": "code",
      "source": [
        "from datasets import load_dataset\n",
        "\n",
        "dataset = load_dataset(\"BoltMonkey/psychology-question-answer\", split = \"train\")\n",
        "dataset = dataset.map(formatting_prompts_func, batched = True,)"
      ],
      "metadata": {
        "colab": {
          "base_uri": "https://localhost:8080/",
          "height": 145,
          "referenced_widgets": [
            "0c18d21e919e46a6a3bc88ab23c8f712",
            "59f6562685124c8c8eb1d1ae962a362a",
            "5db23d02914041d2a7c966525ce5a02e",
            "2a1ab5a019204f379c7346f1f060d916",
            "421b8b8abdc74c44ad11c857d328aa9e",
            "0e602a3378a64c96831756ab8b8d6edf",
            "0cd7dee28bd8426c84b4de09fc68faa0",
            "f5d29395ceb94b8caad357a758109c9c",
            "edf10ceef73140aba096128a831a84f6",
            "f7de5f0b19e142ec941946481e2d7261",
            "2b087c6b011646858ac02d1ba3cbb3a1",
            "a1083c6a063a48bea32fddb9a9aaf66a",
            "298f03ea76e94c3491c1049fc3d2a88e",
            "c3ebadfb28c14618835e035a245e84d3",
            "d4ec4e4610654395a25e9c4e4bfc8975",
            "ece8122a4793447398710041353a1c99",
            "9150dc95f2ca4f3ab27077b5d93cf58b",
            "5b268c9de5134b76a0773e1ceb9c003a",
            "aff365365952487c83c8105492ce9c62",
            "da4b5b3a09cd4fbf9aa681ce17f62298",
            "ff884645716c4870837f2240a4c45379",
            "a0e2f716ca144b258675def01dd23cc0",
            "461757605bb84066a11c96d666402114",
            "14378b0e6a03499cb98fe0c055fca41f",
            "f357fc6c79ad460fafd3efd84afa145a",
            "65111be7ef364400a009c4e959ded32f",
            "bbf467902e344a96a8d1e3d98c500eb7",
            "aa372a04466d41d88eb00662f0817be5",
            "950403af89974b14be782e4593b40c43",
            "21b78b20ab9d4686aa36fab6063f4298",
            "6904c9bfe2764ad498cffcbbf02a9c42",
            "105cb8fc668849cdbee45be703c00ef3",
            "8c1da1f6dc4f4ac1815f870a204412b4",
            "d8ed27f292ed45aea0225364f472004b",
            "f7113675566148e1adfda6ee0ad13833",
            "59a7c4a118a5434ea0ce31fdfc97e7bb",
            "85588735eb624f59b395aa4b83be59f0",
            "a235c855ed574c2f8f02dfc40bb8a8f7",
            "832ac5278d6c412d8526a0b3139e94a1",
            "e3386880890e4b29a00daba0bdb7fe59",
            "f09bd5a8e3c14efaa2ee3d855be02966",
            "684571fa9c734adea02d647153b3755a",
            "68b662d6e552461da09c41ed50fe69c0",
            "8ebcf6c07ec54f71b0419baca15d9b72"
          ]
        },
        "id": "UZ6lcTqxyxfQ",
        "outputId": "302d59fd-c6c1-4057-8607-a895e71cfa71"
      },
      "execution_count": null,
      "outputs": [
        {
          "output_type": "display_data",
          "data": {
            "text/plain": [
              "README.md:   0%|          | 0.00/1.32k [00:00<?, ?B/s]"
            ],
            "application/vnd.jupyter.widget-view+json": {
              "version_major": 2,
              "version_minor": 0,
              "model_id": "0c18d21e919e46a6a3bc88ab23c8f712"
            }
          },
          "metadata": {}
        },
        {
          "output_type": "display_data",
          "data": {
            "text/plain": [
              "train.json:   0%|          | 0.00/74.9M [00:00<?, ?B/s]"
            ],
            "application/vnd.jupyter.widget-view+json": {
              "version_major": 2,
              "version_minor": 0,
              "model_id": "a1083c6a063a48bea32fddb9a9aaf66a"
            }
          },
          "metadata": {}
        },
        {
          "output_type": "display_data",
          "data": {
            "text/plain": [
              "Generating train split:   0%|          | 0/197180 [00:00<?, ? examples/s]"
            ],
            "application/vnd.jupyter.widget-view+json": {
              "version_major": 2,
              "version_minor": 0,
              "model_id": "461757605bb84066a11c96d666402114"
            }
          },
          "metadata": {}
        },
        {
          "output_type": "display_data",
          "data": {
            "text/plain": [
              "Map:   0%|          | 0/197180 [00:00<?, ? examples/s]"
            ],
            "application/vnd.jupyter.widget-view+json": {
              "version_major": 2,
              "version_minor": 0,
              "model_id": "d8ed27f292ed45aea0225364f472004b"
            }
          },
          "metadata": {}
        }
      ]
    },
    {
      "cell_type": "code",
      "source": [
        "dataset"
      ],
      "metadata": {
        "colab": {
          "base_uri": "https://localhost:8080/"
        },
        "id": "hUvRZQynRQQt",
        "outputId": "dfb062b1-37f2-40b1-d755-79dcaec8e5a4"
      },
      "execution_count": null,
      "outputs": [
        {
          "output_type": "execute_result",
          "data": {
            "text/plain": [
              "Dataset({\n",
              "    features: ['answer', 'question', 'text'],\n",
              "    num_rows: 197180\n",
              "})"
            ]
          },
          "metadata": {},
          "execution_count": 13
        }
      ]
    },
    {
      "cell_type": "code",
      "source": [
        "import pprint\n",
        "#Here are a few examples of what the data looks like\n",
        "pprint.pprint(dataset[250])\n",
        "pprint.pprint(dataset[260])\n",
        "pprint.pprint(dataset[270])"
      ],
      "metadata": {
        "colab": {
          "base_uri": "https://localhost:8080/"
        },
        "id": "t1sa6gXkACmq",
        "outputId": "80de4dc9-5893-46cf-aff2-5150eee80c05"
      },
      "execution_count": null,
      "outputs": [
        {
          "output_type": "stream",
          "name": "stdout",
          "text": [
            "{'answer': \"Sympathy involves feeling sorry for someone's situation, while \"\n",
            "           \"empathy involves stepping into another person's shoes and feeling \"\n",
            "           'what they feel.',\n",
            " 'question': 'What is the difference between sympathy and empathy?',\n",
            " 'text': '\\n'\n",
            "         '### Instruction:\\n'\n",
            "         '\\n'\n",
            "         '\\n'\n",
            "         '### Input:\\n'\n",
            "         'What is the difference between sympathy and empathy?\\n'\n",
            "         '\\n'\n",
            "         '### Response:\\n'\n",
            "         \"Sympathy involves feeling sorry for someone's situation, while \"\n",
            "         \"empathy involves stepping into another person's shoes and feeling \"\n",
            "         'what they feel.<|end_of_text|>'}\n",
            "{'answer': 'Carl Rogers was a humanistic psychologist who believed in '\n",
            "           'client-centered therapy, where the therapist provides support '\n",
            "           'without judgement and helps clients find their own solutions to '\n",
            "           'their problems.',\n",
            " 'question': 'Who is Carl Rogers and what was his contribution to psychology?',\n",
            " 'text': '\\n'\n",
            "         '### Instruction:\\n'\n",
            "         '\\n'\n",
            "         '\\n'\n",
            "         '### Input:\\n'\n",
            "         'Who is Carl Rogers and what was his contribution to psychology?\\n'\n",
            "         '\\n'\n",
            "         '### Response:\\n'\n",
            "         'Carl Rogers was a humanistic psychologist who believed in '\n",
            "         'client-centered therapy, where the therapist provides support '\n",
            "         'without judgement and helps clients find their own solutions to '\n",
            "         'their problems.<|end_of_text|>'}\n",
            "{'answer': 'Lev Vygotsky developed the theory of sociocultural development, '\n",
            "           'which suggests that social and cultural factors play a role in '\n",
            "           'cognitive development and that learning occurs through '\n",
            "           'interactions with others.',\n",
            " 'question': 'Who is Lev Vygotsky and what was his contribution to psychology?',\n",
            " 'text': '\\n'\n",
            "         '### Instruction:\\n'\n",
            "         '\\n'\n",
            "         '\\n'\n",
            "         '### Input:\\n'\n",
            "         'Who is Lev Vygotsky and what was his contribution to psychology?\\n'\n",
            "         '\\n'\n",
            "         '### Response:\\n'\n",
            "         'Lev Vygotsky developed the theory of sociocultural development, '\n",
            "         'which suggests that social and cultural factors play a role in '\n",
            "         'cognitive development and that learning occurs through interactions '\n",
            "         'with others.<|end_of_text|>'}\n"
          ]
        }
      ]
    },
    {
      "cell_type": "markdown",
      "source": [
        "**Step 5: Configure the Training Parameters**"
      ],
      "metadata": {
        "id": "hdweWtuqSQk2"
      }
    },
    {
      "cell_type": "markdown",
      "source": [
        "Now let's define the training parameters, including the model, tokenizer, and dataset, along with key training settings like batch size, gradient accumulation steps, learning rate, and maximum training steps. The TrainingArguments specify additional configurations, such as optimization with the AdamW optimizer, weight decay, and logging frequency.\n",
        "\n",
        "* **Learning Rate:** Controls the speed at which the model updates during training.\n",
        "\n",
        "* **Batch Size:** The number of samples processed in one iteration.\n",
        "\n",
        "* **Epochs:** The number of times the model passes through the entire training dataset.\n",
        "\n",
        "* **Logging Directory:** Specifies where to store training logs, useful for monitoring progress.\n",
        "\n",
        "The Trainer simplifies the configuration and management of the fine-tuning process, ensuring a balanced and efficient setup. We did 60 steps to make finetuning faster, **but you can set num_train_epochs=1 for a full run, and turn off max_steps=None**."
      ],
      "metadata": {
        "id": "kqe6Sg34Sr4L"
      }
    },
    {
      "cell_type": "code",
      "source": [
        "from trl import SFTTrainer\n",
        "from transformers import TrainingArguments\n",
        "\n",
        "trainer = SFTTrainer(\n",
        "    model = model,\n",
        "    tokenizer = tokenizer,\n",
        "    train_dataset = dataset,\n",
        "    dataset_text_field = \"text\",\n",
        "    max_seq_length = max_seq_length,\n",
        "    dataset_num_proc = 2,\n",
        "    packing = True,\n",
        "    args = TrainingArguments(\n",
        "        per_device_train_batch_size = 2,\n",
        "        gradient_accumulation_steps = 4,\n",
        "        warmup_steps = 5,\n",
        "        max_steps = 60,\n",
        "        learning_rate = 2e-4,\n",
        "        fp16 = not torch.cuda.is_bf16_supported(),\n",
        "        bf16 = torch.cuda.is_bf16_supported(),\n",
        "        logging_steps = 1,\n",
        "        optim = \"adamw_8bit\",\n",
        "        weight_decay = 0.01,\n",
        "        lr_scheduler_type = \"linear\",\n",
        "        seed = 3407,\n",
        "        output_dir = \"outputs\",\n",
        "    ),\n",
        ")"
      ],
      "metadata": {
        "colab": {
          "base_uri": "https://localhost:8080/",
          "height": 66,
          "referenced_widgets": [
            "d0edc4dd3ff74558825d6b0f9d33bfb3",
            "2f65037db84b479c981c6e4fb4c8505a",
            "ecad01d0bbe14d14ab969a9b957de5ed",
            "14d01b53350045b8a7fa3bf30eb0faca",
            "17b17e00d9524c19a06499f123b131f9",
            "4f20b59f4322400aa95cb14aba28c4e7",
            "37202e81dbc04d4db41700fc23a37283",
            "d227723b49de4dfc9372ad31f8be3599",
            "7036c86d594f406c9d258bfc9b80d082",
            "8f9271844c5a4402a4d838c40abb03d8",
            "0162b399512547948760b56dfa9a0525"
          ]
        },
        "id": "vCpgZWXjzh3v",
        "outputId": "f9efe5ba-720a-46c8-8d47-28fd28b15896"
      },
      "execution_count": null,
      "outputs": [
        {
          "output_type": "display_data",
          "data": {
            "text/plain": [
              "Generating train split: 0 examples [00:00, ? examples/s]"
            ],
            "application/vnd.jupyter.widget-view+json": {
              "version_major": 2,
              "version_minor": 0,
              "model_id": "d0edc4dd3ff74558825d6b0f9d33bfb3"
            }
          },
          "metadata": {}
        },
        {
          "output_type": "stream",
          "name": "stderr",
          "text": [
            "max_steps is given, it will override any value given in num_train_epochs\n"
          ]
        }
      ]
    },
    {
      "cell_type": "markdown",
      "source": [
        "**Step 6: Start Training**"
      ],
      "metadata": {
        "id": "JbqnaEY3T9XL"
      }
    },
    {
      "cell_type": "markdown",
      "source": [
        "The line `trainer_stats = trainer.train() `initiates the fine-tuning process using the SFTTrainer. It triggers the training loop, where the model learns from the provided dataset based on the configurations defined earlier. we can see the loss is decreasing during training, this means the model is learning and improving its performance. In machine learning, loss represents how well the model's predictions match the actual target values. When the loss decreases over time, it indicates that the model is gradually adjusting its parameters to make more accurate predictions."
      ],
      "metadata": {
        "id": "4mj7Jtl9UxFc"
      }
    },
    {
      "cell_type": "code",
      "source": [
        "trainer_stats = trainer.train()"
      ],
      "metadata": {
        "colab": {
          "base_uri": "https://localhost:8080/",
          "height": 1000
        },
        "id": "mf-hq1lGzofI",
        "outputId": "b015762a-b5a8-464f-9903-bb114d5cac11"
      },
      "execution_count": null,
      "outputs": [
        {
          "output_type": "stream",
          "name": "stderr",
          "text": [
            "==((====))==  Unsloth - 2x faster free finetuning | Num GPUs = 1\n",
            "   \\\\   /|    Num examples = 6,911 | Num Epochs = 1\n",
            "O^O/ \\_/ \\    Batch size per device = 2 | Gradient Accumulation steps = 4\n",
            "\\        /    Total batch size = 8 | Total steps = 60\n",
            " \"-____-\"     Number of trainable parameters = 41,943,040\n",
            "\u001b[34m\u001b[1mwandb\u001b[0m: \u001b[33mWARNING\u001b[0m The `run_name` is currently set to the same value as `TrainingArguments.output_dir`. If this was not intended, please specify a different run name by setting the `TrainingArguments.run_name` parameter.\n",
            "\u001b[34m\u001b[1mwandb\u001b[0m: Using wandb-core as the SDK backend.  Please refer to https://wandb.me/wandb-core for more information.\n"
          ]
        },
        {
          "output_type": "display_data",
          "data": {
            "text/plain": [
              "<IPython.core.display.Javascript object>"
            ],
            "application/javascript": [
              "\n",
              "        window._wandbApiKey = new Promise((resolve, reject) => {\n",
              "            function loadScript(url) {\n",
              "            return new Promise(function(resolve, reject) {\n",
              "                let newScript = document.createElement(\"script\");\n",
              "                newScript.onerror = reject;\n",
              "                newScript.onload = resolve;\n",
              "                document.body.appendChild(newScript);\n",
              "                newScript.src = url;\n",
              "            });\n",
              "            }\n",
              "            loadScript(\"https://cdn.jsdelivr.net/npm/postmate/build/postmate.min.js\").then(() => {\n",
              "            const iframe = document.createElement('iframe')\n",
              "            iframe.style.cssText = \"width:0;height:0;border:none\"\n",
              "            document.body.appendChild(iframe)\n",
              "            const handshake = new Postmate({\n",
              "                container: iframe,\n",
              "                url: 'https://wandb.ai/authorize'\n",
              "            });\n",
              "            const timeout = setTimeout(() => reject(\"Couldn't auto authenticate\"), 5000)\n",
              "            handshake.then(function(child) {\n",
              "                child.on('authorize', data => {\n",
              "                    clearTimeout(timeout)\n",
              "                    resolve(data)\n",
              "                });\n",
              "            });\n",
              "            })\n",
              "        });\n",
              "    "
            ]
          },
          "metadata": {}
        },
        {
          "output_type": "stream",
          "name": "stderr",
          "text": [
            "\u001b[34m\u001b[1mwandb\u001b[0m: Logging into wandb.ai. (Learn how to deploy a W&B server locally: https://wandb.me/wandb-server)\n",
            "\u001b[34m\u001b[1mwandb\u001b[0m: You can find your API key in your browser here: https://wandb.ai/authorize\n",
            "wandb: Paste an API key from your profile and hit enter, or press ctrl+c to quit:"
          ]
        },
        {
          "name": "stdout",
          "output_type": "stream",
          "text": [
            " ··········\n"
          ]
        },
        {
          "output_type": "stream",
          "name": "stderr",
          "text": [
            "\u001b[34m\u001b[1mwandb\u001b[0m: Appending key for api.wandb.ai to your netrc file: /root/.netrc\n"
          ]
        },
        {
          "output_type": "display_data",
          "data": {
            "text/plain": [
              "<IPython.core.display.HTML object>"
            ],
            "text/html": [
              "Tracking run with wandb version 0.18.7"
            ]
          },
          "metadata": {}
        },
        {
          "output_type": "display_data",
          "data": {
            "text/plain": [
              "<IPython.core.display.HTML object>"
            ],
            "text/html": [
              "Run data is saved locally in <code>/content/wandb/run-20241204_142910-aoqxvcfu</code>"
            ]
          },
          "metadata": {}
        },
        {
          "output_type": "display_data",
          "data": {
            "text/plain": [
              "<IPython.core.display.HTML object>"
            ],
            "text/html": [
              "Syncing run <strong><a href='https://wandb.ai/aigp/huggingface/runs/aoqxvcfu' target=\"_blank\">outputs</a></strong> to <a href='https://wandb.ai/aigp/huggingface' target=\"_blank\">Weights & Biases</a> (<a href='https://wandb.me/developer-guide' target=\"_blank\">docs</a>)<br/>"
            ]
          },
          "metadata": {}
        },
        {
          "output_type": "display_data",
          "data": {
            "text/plain": [
              "<IPython.core.display.HTML object>"
            ],
            "text/html": [
              " View project at <a href='https://wandb.ai/aigp/huggingface' target=\"_blank\">https://wandb.ai/aigp/huggingface</a>"
            ]
          },
          "metadata": {}
        },
        {
          "output_type": "display_data",
          "data": {
            "text/plain": [
              "<IPython.core.display.HTML object>"
            ],
            "text/html": [
              " View run at <a href='https://wandb.ai/aigp/huggingface/runs/aoqxvcfu' target=\"_blank\">https://wandb.ai/aigp/huggingface/runs/aoqxvcfu</a>"
            ]
          },
          "metadata": {}
        },
        {
          "output_type": "display_data",
          "data": {
            "text/plain": [
              "<IPython.core.display.HTML object>"
            ],
            "text/html": [
              "\n",
              "    <div>\n",
              "      \n",
              "      <progress value='60' max='60' style='width:300px; height:20px; vertical-align: middle;'></progress>\n",
              "      [60/60 48:32, Epoch 0/1]\n",
              "    </div>\n",
              "    <table border=\"1\" class=\"dataframe\">\n",
              "  <thead>\n",
              " <tr style=\"text-align: left;\">\n",
              "      <th>Step</th>\n",
              "      <th>Training Loss</th>\n",
              "    </tr>\n",
              "  </thead>\n",
              "  <tbody>\n",
              "    <tr>\n",
              "      <td>1</td>\n",
              "      <td>1.836700</td>\n",
              "    </tr>\n",
              "    <tr>\n",
              "      <td>2</td>\n",
              "      <td>1.841700</td>\n",
              "    </tr>\n",
              "    <tr>\n",
              "      <td>3</td>\n",
              "      <td>1.707600</td>\n",
              "    </tr>\n",
              "    <tr>\n",
              "      <td>4</td>\n",
              "      <td>1.675300</td>\n",
              "    </tr>\n",
              "    <tr>\n",
              "      <td>5</td>\n",
              "      <td>1.677400</td>\n",
              "    </tr>\n",
              "    <tr>\n",
              "      <td>6</td>\n",
              "      <td>1.582100</td>\n",
              "    </tr>\n",
              "    <tr>\n",
              "      <td>7</td>\n",
              "      <td>1.465500</td>\n",
              "    </tr>\n",
              "    <tr>\n",
              "      <td>8</td>\n",
              "      <td>1.462600</td>\n",
              "    </tr>\n",
              "    <tr>\n",
              "      <td>9</td>\n",
              "      <td>1.498500</td>\n",
              "    </tr>\n",
              "    <tr>\n",
              "      <td>10</td>\n",
              "      <td>1.425000</td>\n",
              "    </tr>\n",
              "    <tr>\n",
              "      <td>11</td>\n",
              "      <td>1.367100</td>\n",
              "    </tr>\n",
              "    <tr>\n",
              "      <td>12</td>\n",
              "      <td>1.370700</td>\n",
              "    </tr>\n",
              "    <tr>\n",
              "      <td>13</td>\n",
              "      <td>1.329100</td>\n",
              "    </tr>\n",
              "    <tr>\n",
              "      <td>14</td>\n",
              "      <td>1.315400</td>\n",
              "    </tr>\n",
              "    <tr>\n",
              "      <td>15</td>\n",
              "      <td>1.318100</td>\n",
              "    </tr>\n",
              "    <tr>\n",
              "      <td>16</td>\n",
              "      <td>1.326400</td>\n",
              "    </tr>\n",
              "    <tr>\n",
              "      <td>17</td>\n",
              "      <td>1.193700</td>\n",
              "    </tr>\n",
              "    <tr>\n",
              "      <td>18</td>\n",
              "      <td>1.169500</td>\n",
              "    </tr>\n",
              "    <tr>\n",
              "      <td>19</td>\n",
              "      <td>1.131200</td>\n",
              "    </tr>\n",
              "    <tr>\n",
              "      <td>20</td>\n",
              "      <td>1.146400</td>\n",
              "    </tr>\n",
              "    <tr>\n",
              "      <td>21</td>\n",
              "      <td>1.237400</td>\n",
              "    </tr>\n",
              "    <tr>\n",
              "      <td>22</td>\n",
              "      <td>1.171300</td>\n",
              "    </tr>\n",
              "    <tr>\n",
              "      <td>23</td>\n",
              "      <td>1.150500</td>\n",
              "    </tr>\n",
              "    <tr>\n",
              "      <td>24</td>\n",
              "      <td>1.091200</td>\n",
              "    </tr>\n",
              "    <tr>\n",
              "      <td>25</td>\n",
              "      <td>1.116200</td>\n",
              "    </tr>\n",
              "    <tr>\n",
              "      <td>26</td>\n",
              "      <td>1.174700</td>\n",
              "    </tr>\n",
              "    <tr>\n",
              "      <td>27</td>\n",
              "      <td>1.178100</td>\n",
              "    </tr>\n",
              "    <tr>\n",
              "      <td>28</td>\n",
              "      <td>1.108700</td>\n",
              "    </tr>\n",
              "    <tr>\n",
              "      <td>29</td>\n",
              "      <td>1.094400</td>\n",
              "    </tr>\n",
              "    <tr>\n",
              "      <td>30</td>\n",
              "      <td>1.084600</td>\n",
              "    </tr>\n",
              "    <tr>\n",
              "      <td>31</td>\n",
              "      <td>1.085500</td>\n",
              "    </tr>\n",
              "    <tr>\n",
              "      <td>32</td>\n",
              "      <td>1.061100</td>\n",
              "    </tr>\n",
              "    <tr>\n",
              "      <td>33</td>\n",
              "      <td>1.136000</td>\n",
              "    </tr>\n",
              "    <tr>\n",
              "      <td>34</td>\n",
              "      <td>1.092000</td>\n",
              "    </tr>\n",
              "    <tr>\n",
              "      <td>35</td>\n",
              "      <td>1.088800</td>\n",
              "    </tr>\n",
              "    <tr>\n",
              "      <td>36</td>\n",
              "      <td>1.067400</td>\n",
              "    </tr>\n",
              "    <tr>\n",
              "      <td>37</td>\n",
              "      <td>1.073700</td>\n",
              "    </tr>\n",
              "    <tr>\n",
              "      <td>38</td>\n",
              "      <td>1.136400</td>\n",
              "    </tr>\n",
              "    <tr>\n",
              "      <td>39</td>\n",
              "      <td>1.042800</td>\n",
              "    </tr>\n",
              "    <tr>\n",
              "      <td>40</td>\n",
              "      <td>1.044900</td>\n",
              "    </tr>\n",
              "    <tr>\n",
              "      <td>41</td>\n",
              "      <td>1.119600</td>\n",
              "    </tr>\n",
              "    <tr>\n",
              "      <td>42</td>\n",
              "      <td>1.066400</td>\n",
              "    </tr>\n",
              "    <tr>\n",
              "      <td>43</td>\n",
              "      <td>1.142900</td>\n",
              "    </tr>\n",
              "    <tr>\n",
              "      <td>44</td>\n",
              "      <td>1.108800</td>\n",
              "    </tr>\n",
              "    <tr>\n",
              "      <td>45</td>\n",
              "      <td>1.065700</td>\n",
              "    </tr>\n",
              "    <tr>\n",
              "      <td>46</td>\n",
              "      <td>1.101300</td>\n",
              "    </tr>\n",
              "    <tr>\n",
              "      <td>47</td>\n",
              "      <td>1.067700</td>\n",
              "    </tr>\n",
              "    <tr>\n",
              "      <td>48</td>\n",
              "      <td>1.087400</td>\n",
              "    </tr>\n",
              "    <tr>\n",
              "      <td>49</td>\n",
              "      <td>1.048200</td>\n",
              "    </tr>\n",
              "    <tr>\n",
              "      <td>50</td>\n",
              "      <td>1.110600</td>\n",
              "    </tr>\n",
              "    <tr>\n",
              "      <td>51</td>\n",
              "      <td>1.033400</td>\n",
              "    </tr>\n",
              "    <tr>\n",
              "      <td>52</td>\n",
              "      <td>1.083700</td>\n",
              "    </tr>\n",
              "    <tr>\n",
              "      <td>53</td>\n",
              "      <td>1.086500</td>\n",
              "    </tr>\n",
              "    <tr>\n",
              "      <td>54</td>\n",
              "      <td>1.087200</td>\n",
              "    </tr>\n",
              "    <tr>\n",
              "      <td>55</td>\n",
              "      <td>1.069600</td>\n",
              "    </tr>\n",
              "    <tr>\n",
              "      <td>56</td>\n",
              "      <td>1.059000</td>\n",
              "    </tr>\n",
              "    <tr>\n",
              "      <td>57</td>\n",
              "      <td>1.064300</td>\n",
              "    </tr>\n",
              "    <tr>\n",
              "      <td>58</td>\n",
              "      <td>1.021600</td>\n",
              "    </tr>\n",
              "    <tr>\n",
              "      <td>59</td>\n",
              "      <td>1.090700</td>\n",
              "    </tr>\n",
              "    <tr>\n",
              "      <td>60</td>\n",
              "      <td>1.106900</td>\n",
              "    </tr>\n",
              "  </tbody>\n",
              "</table><p>"
            ]
          },
          "metadata": {}
        }
      ]
    },
    {
      "cell_type": "markdown",
      "source": [
        "**Step 7: Perform Inference with the Fine-Tuned Model to Evaluate output**"
      ],
      "metadata": {
        "id": "ynd9unCi5eei"
      }
    },
    {
      "cell_type": "markdown",
      "source": [
        "When we generate text with the fine-tuned model, the output typically includes the full structure of the input prompt along with the model's response. For instance, the output for this example looks like this:"
      ],
      "metadata": {
        "id": "nJrIU616X2Nw"
      }
    },
    {
      "cell_type": "code",
      "source": [
        "FastLanguageModel.for_inference(model) # For faster Inference\n",
        "\n",
        "inputs = tokenizer(\n",
        "[\n",
        "    chat_prompt.format(\n",
        "        \"\", # instruction - leave this blank!\n",
        "        \"Who is the founder of the psychoanalytic theory?\", # input\n",
        "        \"\", # output - leave this blank!\n",
        "    )\n",
        "], return_tensors = \"pt\").to(\"cuda\")\n",
        "\n",
        "outputs = model.generate(**inputs, max_new_tokens = 64, use_cache = True)\n",
        "tokenizer.batch_decode(outputs)"
      ],
      "metadata": {
        "colab": {
          "base_uri": "https://localhost:8080/"
        },
        "id": "q8L7mk2tzvnZ",
        "outputId": "28a1cae7-d22a-4186-d8e1-4d67340c8f9e"
      },
      "execution_count": null,
      "outputs": [
        {
          "output_type": "execute_result",
          "data": {
            "text/plain": [
              "['<|begin_of_text|>\\n### Instruction:\\n\\n\\n### Input:\\nWho is the founder of the psychoanalytic theory?\\n\\n### Response:\\nSigmund Freud is the founder of the psychoanalytic theory.<|end_of_text|>']"
            ]
          },
          "metadata": {},
          "execution_count": 49
        }
      ]
    },
    {
      "cell_type": "markdown",
      "source": [
        "To extract and print only the response part of the output, we can modify your code to process the decoded output string. Here's the new code:"
      ],
      "metadata": {
        "id": "11b-IYmoXfuX"
      }
    },
    {
      "cell_type": "code",
      "source": [
        "FastLanguageModel.for_inference(model)\n",
        "\n",
        "inputs = tokenizer(\n",
        "    [\n",
        "        chat_prompt.format(\n",
        "            \"\",  # instruction\n",
        "            \"Who is the founder of the psychoanalytic theory? \",  # input\n",
        "            \"\",  # output\n",
        "        )\n",
        "    ],\n",
        "    return_tensors=\"pt\"\n",
        ").to(\"cuda\")\n",
        "\n",
        "outputs = model.generate(**inputs, max_new_tokens=64, use_cache=True)\n",
        "decoded_output = tokenizer.batch_decode(outputs)[0]  # Decode the output\n",
        "\n",
        "# Extracting the response part\n",
        "response = decoded_output.split(\"### Response:\")[-1].strip()  # Get text after \"### Response:\"\n",
        "response = response.split(\"<|end_of_text|>\")[0].strip()  # Remove the end token if present\n",
        "\n",
        "print(response)\n"
      ],
      "metadata": {
        "colab": {
          "base_uri": "https://localhost:8080/"
        },
        "id": "8ka2znk3-8F7",
        "outputId": "6e42d8a2-14ba-4e95-9f5c-5ab5b1df2374"
      },
      "execution_count": null,
      "outputs": [
        {
          "output_type": "stream",
          "name": "stdout",
          "text": [
            "Sigmund Freud.\n"
          ]
        }
      ]
    },
    {
      "cell_type": "markdown",
      "source": [
        "**Comparing response to dataset answer:**\n",
        "\n",
        "As you can see, when we asked the same question twice, the model gave the same answer but written in different ways. This shows that the model is relying on the dataset while also being able to generalize."
      ],
      "metadata": {
        "id": "bhpxi3PxZKo9"
      }
    },
    {
      "cell_type": "markdown",
      "source": [
        "![image.png](data:image/png;base64,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)"
      ],
      "metadata": {
        "id": "Z1mlKlxaZHg6"
      }
    },
    {
      "cell_type": "code",
      "source": [
        "\n",
        "FastLanguageModel.for_inference(model)\n",
        "\n",
        "inputs = tokenizer(\n",
        "    [\n",
        "        chat_prompt.format(\n",
        "            \"\",  # instruction\n",
        "            \"Who proposed the concept of self-efficacy?\",  # input\n",
        "            \"\",  # output\n",
        "        )\n",
        "    ],\n",
        "    return_tensors=\"pt\"\n",
        ").to(\"cuda\")\n",
        "\n",
        "outputs = model.generate(**inputs, max_new_tokens=64, use_cache=True)\n",
        "decoded_output = tokenizer.batch_decode(outputs)[0]\n",
        "\n",
        "response = decoded_output.split(\"### Response:\")[-1].strip()\n",
        "response = response.split(\"<|end_of_text|>\")[0].strip()\n",
        "\n",
        "print(response)"
      ],
      "metadata": {
        "colab": {
          "base_uri": "https://localhost:8080/"
        },
        "id": "_gTM5mNGWAzB",
        "outputId": "e0fa662f-4a2c-40ab-fda7-48639d2cb87d"
      },
      "execution_count": null,
      "outputs": [
        {
          "output_type": "stream",
          "name": "stdout",
          "text": [
            "Albert Bandura proposed the concept of self-efficacy, which refers to an individual's belief in their ability to succeed in a particular task or situation.\n"
          ]
        }
      ]
    },
    {
      "cell_type": "markdown",
      "source": [
        "**Comparing response to dataset answer:**\n",
        "\n",
        "in this example, the model used the knowledge from the dataset but with variation and extension. This behavior demonstrates that the model has genuinely learned patterns and concepts from the data rather than merely memorizing it."
      ],
      "metadata": {
        "id": "PAN-4Bd3ZVbP"
      }
    },
    {
      "cell_type": "markdown",
      "source": [
        "![image.png](data:image/png;base64,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)"
      ],
      "metadata": {
        "id": "kNFmTx15W0w2"
      }
    },
    {
      "cell_type": "code",
      "source": [
        "FastLanguageModel.for_inference(model)\n",
        "\n",
        "inputs = tokenizer(\n",
        "    [\n",
        "        chat_prompt.format(\n",
        "            \"\",  # instruction\n",
        "            \"Who is known for their work on classical conditioning?\",  # input\n",
        "            \"\",  # output\n",
        "        )\n",
        "    ],\n",
        "    return_tensors=\"pt\"\n",
        ").to(\"cuda\")\n",
        "\n",
        "outputs = model.generate(**inputs, max_new_tokens=64, use_cache=True)\n",
        "decoded_output = tokenizer.batch_decode(outputs)[0]\n",
        "\n",
        "response = decoded_output.split(\"### Response:\")[-1].strip()\n",
        "response = response.split(\"<|end_of_text|>\")[0].strip()\n",
        "\n",
        "print(response)"
      ],
      "metadata": {
        "colab": {
          "base_uri": "https://localhost:8080/"
        },
        "id": "ANKVwP11WS-q",
        "outputId": "2ca610bc-62a8-4b7b-f452-accf481d2f0d"
      },
      "execution_count": null,
      "outputs": [
        {
          "output_type": "stream",
          "name": "stdout",
          "text": [
            "Ivan Pavlov is known for his work on classical conditioning.\n"
          ]
        }
      ]
    },
    {
      "cell_type": "markdown",
      "source": [
        "**Comparing response to dataset answer:**\n",
        "\n",
        "The model is also answering in the same style by keeping the responses short and straight to the point. This consistency in style indicates that the model not only learned the content from the dataset but also the tone and structure of the responses, allowing it to generate answers that align with the desired format."
      ],
      "metadata": {
        "id": "QQWVUgJ4ZWrb"
      }
    },
    {
      "cell_type": "markdown",
      "source": [
        "![image.png](data:image/png;base64,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)"
      ],
      "metadata": {
        "id": "h0Dn_qhbWpy7"
      }
    },
    {
      "cell_type": "markdown",
      "source": [
        "**Step 7: Saving, loading finetuned models**"
      ],
      "metadata": {
        "id": "k4xjGl88d5Y7"
      }
    },
    {
      "cell_type": "code",
      "source": [
        "model.save_pretrained(\"lora_model\")\n",
        "tokenizer.save_pretrained(\"lora_model\")\n",
        "# model.push_to_hub(\"your_name/lora_model\", token = \"...\") # If you want to save online\n",
        "# tokenizer.push_to_hub(\"your_name/lora_model\", token = \"...\") # If you want to save online"
      ],
      "metadata": {
        "colab": {
          "base_uri": "https://localhost:8080/"
        },
        "id": "ITttpgt0XIJE",
        "outputId": "fa1ea971-1a42-491a-916e-b3cbd718899b"
      },
      "execution_count": null,
      "outputs": [
        {
          "output_type": "execute_result",
          "data": {
            "text/plain": [
              "('lora_model/tokenizer_config.json',\n",
              " 'lora_model/special_tokens_map.json',\n",
              " 'lora_model/tokenizer.json')"
            ]
          },
          "metadata": {},
          "execution_count": 57
        }
      ]
    },
    {
      "cell_type": "code",
      "source": [
        "#Let's zip our model folder\n",
        "import shutil\n",
        "import os\n",
        "folder_path = \"/content/lora_model\"\n",
        "zip_file_path = \"/content/lora_model.zip\"\n",
        "\n",
        "shutil.make_archive(zip_file_path.replace(\".zip\", \"\"), 'zip', folder_path)"
      ],
      "metadata": {
        "colab": {
          "base_uri": "https://localhost:8080/",
          "height": 35
        },
        "id": "jxtUbGgVeE-2",
        "outputId": "e39a2cd2-1914-49fc-8edb-b44f95d0993b"
      },
      "execution_count": null,
      "outputs": [
        {
          "output_type": "execute_result",
          "data": {
            "text/plain": [
              "'/content/lora_model.zip'"
            ],
            "application/vnd.google.colaboratory.intrinsic+json": {
              "type": "string"
            }
          },
          "metadata": {},
          "execution_count": 59
        }
      ]
    },
    {
      "cell_type": "code",
      "source": [
        "#Now if we want to use our model again we can just load it:\n",
        "\n",
        "if False:\n",
        "    from unsloth import FastLanguageModel\n",
        "    model, tokenizer = FastLanguageModel.from_pretrained(\n",
        "        model_name = \"lora_model\", #model folder\n",
        "        max_seq_length = max_seq_length,\n",
        "        dtype = dtype,\n",
        "        load_in_4bit = load_in_4bit,\n",
        "    )\n",
        "    FastLanguageModel.for_inference(model)"
      ],
      "metadata": {
        "id": "dGny3ff9eYRh"
      },
      "execution_count": null,
      "outputs": []
    },
    {
      "cell_type": "code",
      "source": [
        "chat_prompt = \"\"\"\n",
        "### Instruction:\n",
        "{}\n",
        "\n",
        "### Input:\n",
        "{}\n",
        "\n",
        "### Response:\n",
        "{}\"\"\""
      ],
      "metadata": {
        "id": "n1GJaNqJfWw6"
      },
      "execution_count": null,
      "outputs": []
    },
    {
      "cell_type": "code",
      "source": [
        "inputs = tokenizer(\n",
        "    [\n",
        "        chat_prompt.format(\n",
        "            \"\",  # instruction\n",
        "            \"What is heuristics?\",  # input\n",
        "            \"\",  # output\n",
        "        )\n",
        "    ],\n",
        "    return_tensors=\"pt\"\n",
        ").to(\"cuda\")\n",
        "\n",
        "outputs = model.generate(**inputs, max_new_tokens=64, use_cache=True)\n",
        "decoded_output = tokenizer.batch_decode(outputs)[0]\n",
        "\n",
        "response = decoded_output.split(\"### Response:\")[-1].strip()\n",
        "response = response.split(\"<|end_of_text|>\")[0].strip()\n",
        "\n",
        "print(response)"
      ],
      "metadata": {
        "colab": {
          "base_uri": "https://localhost:8080/"
        },
        "id": "qCTDv_zkfp4s",
        "outputId": "434a39b6-92f9-4749-cae7-b7b51dd11e2f"
      },
      "execution_count": null,
      "outputs": [
        {
          "output_type": "stream",
          "name": "stdout",
          "text": [
            "Heuristics are mental shortcuts or rules of thumb that people use to make decisions or solve problems quickly and efficiently. They are often based on prior experience or intuitive judgments, and can lead to errors or biases in judgment.\n"
          ]
        }
      ]
    },
    {
      "cell_type": "markdown",
      "source": [
        "**Comparing response to dataset answer:**"
      ],
      "metadata": {
        "id": "C724LGuuf4Kr"
      }
    },
    {
      "cell_type": "markdown",
      "source": [
        "![image.png](data:image/png;base64,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)"
      ],
      "metadata": {
        "id": "cSIq-yG0gCks"
      }
    },
    {
      "cell_type": "markdown",
      "source": [
        "And that's a wrap! Keep exploring, keep learning, and enjoy the process."
      ],
      "metadata": {
        "id": "1xjJjYn4guWn"
      }
    }
  ]
}